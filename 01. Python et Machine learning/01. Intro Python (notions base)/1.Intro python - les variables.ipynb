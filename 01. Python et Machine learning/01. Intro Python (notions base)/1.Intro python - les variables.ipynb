{
 "cells": [
  {
   "cell_type": "code",
   "execution_count": 3,
   "metadata": {},
   "outputs": [
    {
     "name": "stdout",
     "output_type": "stream",
     "text": [
      "1\n"
     ]
    }
   ],
   "source": [
    "a = 1\n",
    "print(a)"
   ]
  },
  {
   "cell_type": "code",
   "execution_count": 6,
   "metadata": {},
   "outputs": [
    {
     "name": "stdout",
     "output_type": "stream",
     "text": [
      "<class 'int'>\n",
      "<class 'float'>\n",
      "<class 'str'>\n"
     ]
    }
   ],
   "source": [
    "# Les types de variables\n",
    "\n",
    "a = 1\n",
    "print(type(a))\n",
    "b = 1.0\n",
    "print(type(b))\n",
    "c = 'bonjour'\n",
    "print(type(c))"
   ]
  },
  {
   "cell_type": "code",
   "execution_count": 7,
   "metadata": {},
   "outputs": [
    {
     "name": "stdout",
     "output_type": "stream",
     "text": [
      "<class 'float'>\n",
      "4.140000000000001\n"
     ]
    }
   ],
   "source": [
    "# Opération entre types différents\n",
    "\n",
    "a = 1\n",
    "b = 3.14\n",
    "c = a+b\n",
    "print(type(c))\n",
    "print(c)"
   ]
  },
  {
   "cell_type": "code",
   "execution_count": 8,
   "metadata": {},
   "outputs": [
    {
     "name": "stdout",
     "output_type": "stream",
     "text": [
      "4.5\n",
      "<class 'float'>\n",
      "4\n",
      "<class 'int'>\n"
     ]
    }
   ],
   "source": [
    "# Opération entre types différents\n",
    "\n",
    "a = 9\n",
    "\n",
    "b = a/2\n",
    "print(b)\n",
    "print(type(b))\n",
    "\n",
    "b = a//2\n",
    "print(b)\n",
    "print(type(b))"
   ]
  },
  {
   "cell_type": "code",
   "execution_count": 9,
   "metadata": {},
   "outputs": [
    {
     "name": "stdout",
     "output_type": "stream",
     "text": [
      "124\n",
      "<class 'int'>\n"
     ]
    }
   ],
   "source": [
    "# Convertir un type en un autre - str to int\n",
    "\n",
    "a = '123'\n",
    "b = int(a)\n",
    "print(b+1)\n",
    "print(type(b))"
   ]
  },
  {
   "cell_type": "code",
   "execution_count": 12,
   "metadata": {},
   "outputs": [
    {
     "name": "stdout",
     "output_type": "stream",
     "text": [
      "124.5\n",
      "<class 'float'>\n"
     ]
    }
   ],
   "source": [
    "# Convertir un type en un autre - str to float\n",
    "\n",
    "a = '123.5'\n",
    "b = float(a)\n",
    "print(b+1)\n",
    "print(type(b))"
   ]
  },
  {
   "cell_type": "code",
   "execution_count": 14,
   "metadata": {},
   "outputs": [
    {
     "name": "stdout",
     "output_type": "stream",
     "text": [
      "123\n",
      "<class 'int'>\n"
     ]
    }
   ],
   "source": [
    "# Convertir un type en un autre - float to int\n",
    "\n",
    "a = 123.5\n",
    "b = int(a)\n",
    "print(b)\n",
    "print(type(b))"
   ]
  },
  {
   "cell_type": "code",
   "execution_count": 15,
   "metadata": {},
   "outputs": [
    {
     "name": "stdout",
     "output_type": "stream",
     "text": [
      "<class 'str'>\n",
      "<class 'str'>\n",
      "7 3.14\n"
     ]
    }
   ],
   "source": [
    "# Convertir un type en un autre - int/float to str\n",
    "\n",
    "a = 7\n",
    "b = 3.14\n",
    "\n",
    "c = str(a)\n",
    "d = str(b)\n",
    "\n",
    "print(type(c))\n",
    "print(type(d))\n",
    "print(c, d)"
   ]
  },
  {
   "cell_type": "code",
   "execution_count": 16,
   "metadata": {},
   "outputs": [
    {
     "name": "stdout",
     "output_type": "stream",
     "text": [
      "False\n",
      "True\n",
      "False\n",
      "True\n",
      "False\n"
     ]
    }
   ],
   "source": [
    "# Déterminez la valeur retournée, True ou False, par chaque expression conditionnelle :\n",
    "\n",
    "A = B = True \n",
    "C = D = False \n",
    "print ( (A or B) and (C or D) ) \n",
    "print( A or ( B and C ) ) \n",
    "print( A and B and (C or D) ) \n",
    "print( (A and B) or (not C) ) \n",
    "print( (not A) or D ) "
   ]
  },
  {
   "cell_type": "code",
   "execution_count": 17,
   "metadata": {},
   "outputs": [
    {
     "name": "stdout",
     "output_type": "stream",
     "text": [
      "7\n",
      "-2\n",
      "7\n",
      "17\n",
      "8.988\n"
     ]
    }
   ],
   "source": [
    "# Donnez les valeurs retournées par chacune des expressions suivantes :\n",
    "\n",
    "print( abs(-3) + max(3,4) ) \n",
    "print( min(4,8,0,-2) ) \n",
    "print( max( min(7,8), min(4,6) ) ) \n",
    "print( round(8.324) + round(8.88)) \n",
    "print( round(8.98795136,3) ) "
   ]
  },
  {
   "cell_type": "code",
   "execution_count": null,
   "metadata": {},
   "outputs": [],
   "source": []
  },
  {
   "cell_type": "code",
   "execution_count": null,
   "metadata": {},
   "outputs": [],
   "source": []
  },
  {
   "cell_type": "code",
   "execution_count": null,
   "metadata": {},
   "outputs": [],
   "source": []
  }
 ],
 "metadata": {
  "kernelspec": {
   "display_name": "Python 3",
   "language": "python",
   "name": "python3"
  },
  "language_info": {
   "codemirror_mode": {
    "name": "ipython",
    "version": 3
   },
   "file_extension": ".py",
   "mimetype": "text/x-python",
   "name": "python",
   "nbconvert_exporter": "python",
   "pygments_lexer": "ipython3",
   "version": "3.8.3"
  }
 },
 "nbformat": 4,
 "nbformat_minor": 4
}
