{
 "cells": [
  {
   "cell_type": "code",
   "execution_count": 1,
   "metadata": {},
   "outputs": [
    {
     "name": "stdout",
     "output_type": "stream",
     "text": [
      "o\n",
      "j\n",
      "njou\n",
      "BONJOUR\n",
      "Bonsoir\n",
      "3\n"
     ]
    }
   ],
   "source": [
    "# Donnez les valeurs retournées par chacune des expressions suivantes :\n",
    "\n",
    "A=\"Bonjour\" \n",
    "print( A[1] ) \n",
    "print( A[-4]) \n",
    "print( A[2 :-1]) \n",
    "print( A.upper() ) \n",
    "print( A.replace(\"jour\",\"soir\") ) \n",
    "print( A.find(\"jour\") ) "
   ]
  },
  {
   "cell_type": "code",
   "execution_count": 2,
   "metadata": {},
   "outputs": [
    {
     "name": "stdout",
     "output_type": "stream",
     "text": [
      "0\n",
      "10\n",
      "20\n"
     ]
    }
   ],
   "source": [
    "# Boucle for\n",
    "\n",
    "a = 10 \n",
    "for k in range(3) : \n",
    "    b = k * a\n",
    "    print(b)"
   ]
  },
  {
   "cell_type": "code",
   "execution_count": 3,
   "metadata": {},
   "outputs": [
    {
     "name": "stdout",
     "output_type": "stream",
     "text": [
      "5\n",
      "6\n"
     ]
    }
   ],
   "source": [
    "for k in range(2) :\n",
    "    if k < 2 : \n",
    "        print(k+5)\n",
    "    else : \n",
    "        print(k-10) "
   ]
  },
  {
   "cell_type": "code",
   "execution_count": null,
   "metadata": {},
   "outputs": [],
   "source": []
  }
 ],
 "metadata": {
  "kernelspec": {
   "display_name": "Python 3",
   "language": "python",
   "name": "python3"
  },
  "language_info": {
   "codemirror_mode": {
    "name": "ipython",
    "version": 3
   },
   "file_extension": ".py",
   "mimetype": "text/x-python",
   "name": "python",
   "nbconvert_exporter": "python",
   "pygments_lexer": "ipython3",
   "version": "3.8.3"
  }
 },
 "nbformat": 4,
 "nbformat_minor": 4
}
