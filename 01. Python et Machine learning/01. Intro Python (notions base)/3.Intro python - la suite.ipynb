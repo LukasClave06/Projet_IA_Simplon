{
 "cells": [
  {
   "cell_type": "code",
   "execution_count": 1,
   "metadata": {},
   "outputs": [
    {
     "name": "stdout",
     "output_type": "stream",
     "text": [
      "0123456\n",
      "1234567\n",
      "2345678\n"
     ]
    }
   ],
   "source": [
    "# Boucles for imbriquées I\n",
    "\n",
    "for i in range(3) : \n",
    "    for j in range(7): \n",
    "        print(i+j,end=\"\") \n",
    "    print() "
   ]
  },
  {
   "cell_type": "code",
   "execution_count": 2,
   "metadata": {},
   "outputs": [
    {
     "name": "stdout",
     "output_type": "stream",
     "text": [
      "#\n",
      "##\n",
      "###\n",
      "####\n",
      "#####\n",
      "######\n"
     ]
    }
   ],
   "source": [
    "for i in range(1,7) : \n",
    "    for j in range(i): \n",
    "        print(\"#\",end=\"\") \n",
    "    print() "
   ]
  },
  {
   "cell_type": "code",
   "execution_count": 4,
   "metadata": {},
   "outputs": [
    {
     "name": "stdout",
     "output_type": "stream",
     "text": [
      "#OOOOOOOOOOOO#\n",
      "##OOOOOOOOOO##\n",
      "###OOOOOOOO###\n",
      "####OOOOOO####\n",
      "#####OOOO#####\n",
      "######OO######\n"
     ]
    }
   ],
   "source": [
    "for i in range(1,7) :\n",
    "    for j in range(i): \n",
    "        print(\"#\",end=\"\") \n",
    "    for j in range(14-2*i): \n",
    "        print(\"O\",end=\"\") \n",
    "    for j in range(i):    # identique à la première boucle \n",
    "        print(\"#\",end=\"\") \n",
    "    print() "
   ]
  },
  {
   "cell_type": "code",
   "execution_count": 5,
   "metadata": {},
   "outputs": [
    {
     "name": "stdout",
     "output_type": "stream",
     "text": [
      "11\n",
      "18\n",
      "14\n"
     ]
    }
   ],
   "source": [
    "# Parcours de liste I\n",
    "\n",
    "L = [1,8,4] \n",
    "for v in L : \n",
    "  print(v+10) "
   ]
  },
  {
   "cell_type": "code",
   "execution_count": 9,
   "metadata": {},
   "outputs": [
    {
     "name": "stdout",
     "output_type": "stream",
     "text": [
      "[4, 9, 19]\n",
      "[5, 11]\n"
     ]
    }
   ],
   "source": [
    "L = [ 4,5,9,11,19] \n",
    "L1 = [] \n",
    "L2 = [] \n",
    " \n",
    "for i in range(len(L)) : \n",
    "    if i % 2 == 0 : \n",
    "        L1.append(L[i]) \n",
    "    else : \n",
    "        L2.append(L[i]) \n",
    "        \n",
    "print(L1)\n",
    "print(L2)"
   ]
  },
  {
   "cell_type": "code",
   "execution_count": 11,
   "metadata": {},
   "outputs": [
    {
     "name": "stdout",
     "output_type": "stream",
     "text": [
      "[4, 26, 7, 21, 2, 3]\n"
     ]
    }
   ],
   "source": [
    "# Manipulation de liste\n",
    "\n",
    "L = [4, 5, 9, 11] \n",
    "L[2] = 7 \n",
    "L[3] += 10 \n",
    "K = [2,3] \n",
    "L = L + K \n",
    "L[1] += L[3]\n",
    "print(L)"
   ]
  },
  {
   "cell_type": "code",
   "execution_count": 13,
   "metadata": {},
   "outputs": [
    {
     "name": "stdout",
     "output_type": "stream",
     "text": [
      "[7, 8, 9, 11]\n",
      "[7, 8, 4, 9, 11]\n",
      "[3, 7, 8, 4, 9, 11]\n",
      "[3, 7, 8, 4, 9]\n",
      "[3, 7, 8, 4]\n"
     ]
    }
   ],
   "source": [
    "L = [7,8,9] \n",
    "L.append(11)\n",
    "print(L)\n",
    "L.insert(2,4) \n",
    "print(L)\n",
    "L.insert(0,3) \n",
    "print(L)\n",
    "L.pop(5)\n",
    "print(L) \n",
    "L.pop()\n",
    "print(L)"
   ]
  },
  {
   "cell_type": "code",
   "execution_count": 16,
   "metadata": {},
   "outputs": [
    {
     "name": "stdout",
     "output_type": "stream",
     "text": [
      "[4, 9, 1, 8, 5]\n"
     ]
    }
   ],
   "source": [
    "# Extraire une sous-liste\n",
    "\n",
    "L = [ 4, 9, 1, 8, 5, 3] \n",
    "R = L[0:2] \n",
    "R = L[1:-3] \n",
    "R = L[2:] \n",
    "R = L[:-1]\n",
    "\n",
    "print(R)"
   ]
  },
  {
   "cell_type": "code",
   "execution_count": 17,
   "metadata": {},
   "outputs": [
    {
     "name": "stdout",
     "output_type": "stream",
     "text": [
      "1\n",
      "False\n",
      "True\n",
      "9\n",
      "4\n"
     ]
    }
   ],
   "source": [
    "# Opérations sur les listes\n",
    "\n",
    "L = [ 4,9,0,7] \n",
    "print(L.index(9)) \n",
    "print(5 in L) \n",
    "print(7 in L) \n",
    "print(max(L)) \n",
    "print(len(L))"
   ]
  },
  {
   "cell_type": "code",
   "execution_count": 18,
   "metadata": {},
   "outputs": [
    {
     "name": "stdout",
     "output_type": "stream",
     "text": [
      "5\n"
     ]
    }
   ],
   "source": [
    "# Boucle while\n",
    "\n",
    "n = 1 \n",
    "total = 0 \n",
    "while total < 50: \n",
    "  total += n**2 \n",
    "  n += 1 \n",
    "print(n-1) "
   ]
  },
  {
   "cell_type": "code",
   "execution_count": null,
   "metadata": {},
   "outputs": [],
   "source": []
  }
 ],
 "metadata": {
  "kernelspec": {
   "display_name": "Python 3",
   "language": "python",
   "name": "python3"
  },
  "language_info": {
   "codemirror_mode": {
    "name": "ipython",
    "version": 3
   },
   "file_extension": ".py",
   "mimetype": "text/x-python",
   "name": "python",
   "nbconvert_exporter": "python",
   "pygments_lexer": "ipython3",
   "version": "3.8.3"
  }
 },
 "nbformat": 4,
 "nbformat_minor": 4
}
