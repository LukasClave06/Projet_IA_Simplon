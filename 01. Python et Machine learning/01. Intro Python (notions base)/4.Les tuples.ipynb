{
 "cells": [
  {
   "cell_type": "code",
   "execution_count": 1,
   "metadata": {},
   "outputs": [
    {
     "name": "stdout",
     "output_type": "stream",
     "text": [
      "<class 'tuple'>\n",
      "(1, 'deux', 3, 4, 5)\n"
     ]
    }
   ],
   "source": [
    "mon_tuple=(1,\"deux\",3,4,5) \n",
    "print(type(mon_tuple)) \n",
    "print(mon_tuple) "
   ]
  },
  {
   "cell_type": "code",
   "execution_count": 2,
   "metadata": {},
   "outputs": [
    {
     "data": {
      "text/plain": [
       "1"
      ]
     },
     "execution_count": 2,
     "metadata": {},
     "output_type": "execute_result"
    }
   ],
   "source": [
    "mon_tuple[0]"
   ]
  },
  {
   "cell_type": "code",
   "execution_count": 3,
   "metadata": {},
   "outputs": [
    {
     "ename": "TypeError",
     "evalue": "'tuple' object does not support item assignment",
     "output_type": "error",
     "traceback": [
      "\u001b[1;31m---------------------------------------------------------------------------\u001b[0m",
      "\u001b[1;31mTypeError\u001b[0m                                 Traceback (most recent call last)",
      "\u001b[1;32m<ipython-input-3-5a4b944ad511>\u001b[0m in \u001b[0;36m<module>\u001b[1;34m\u001b[0m\n\u001b[1;32m----> 1\u001b[1;33m \u001b[0mmon_tuple\u001b[0m\u001b[1;33m[\u001b[0m\u001b[1;36m2\u001b[0m\u001b[1;33m]\u001b[0m \u001b[1;33m=\u001b[0m \u001b[1;36m2\u001b[0m\u001b[1;33m\u001b[0m\u001b[1;33m\u001b[0m\u001b[0m\n\u001b[0m",
      "\u001b[1;31mTypeError\u001b[0m: 'tuple' object does not support item assignment"
     ]
    }
   ],
   "source": [
    "mon_tuple[2] = 2"
   ]
  },
  {
   "cell_type": "code",
   "execution_count": 9,
   "metadata": {},
   "outputs": [
    {
     "name": "stdout",
     "output_type": "stream",
     "text": [
      "1 2\n"
     ]
    }
   ],
   "source": [
    "(a,b) = (1,2)\n",
    "print(a, b)"
   ]
  },
  {
   "cell_type": "code",
   "execution_count": 10,
   "metadata": {},
   "outputs": [
    {
     "name": "stdout",
     "output_type": "stream",
     "text": [
      "3 4\n"
     ]
    }
   ],
   "source": [
    "a, b = 3, 4 \n",
    "print(a, b)"
   ]
  },
  {
   "cell_type": "code",
   "execution_count": 11,
   "metadata": {},
   "outputs": [],
   "source": [
    "a=7"
   ]
  },
  {
   "cell_type": "code",
   "execution_count": 12,
   "metadata": {},
   "outputs": [
    {
     "name": "stdout",
     "output_type": "stream",
     "text": [
      "7 4\n"
     ]
    }
   ],
   "source": [
    "print(a, b)"
   ]
  },
  {
   "cell_type": "code",
   "execution_count": 1,
   "metadata": {},
   "outputs": [
    {
     "name": "stdout",
     "output_type": "stream",
     "text": [
      "{'Anthony': 15, 'Marie': 12, 'Julien': 'absent', 'Mohammad': 10, 'Brahiman': 17}\n"
     ]
    }
   ],
   "source": [
    "notes_eleves = { \n",
    "  \"Anthony\": 15, \n",
    "  \"Marie\": 12, \n",
    "  \"Julien\": \"absent\", \n",
    "  \"Mohammad\": 10, \n",
    "  \"Brahiman\": 17 \n",
    "}  \n",
    "print(notes_eleves) "
   ]
  },
  {
   "cell_type": "code",
   "execution_count": 2,
   "metadata": {},
   "outputs": [
    {
     "data": {
      "text/plain": [
       "['__class__',\n",
       " '__contains__',\n",
       " '__delattr__',\n",
       " '__delitem__',\n",
       " '__dir__',\n",
       " '__doc__',\n",
       " '__eq__',\n",
       " '__format__',\n",
       " '__ge__',\n",
       " '__getattribute__',\n",
       " '__getitem__',\n",
       " '__gt__',\n",
       " '__hash__',\n",
       " '__init__',\n",
       " '__init_subclass__',\n",
       " '__iter__',\n",
       " '__le__',\n",
       " '__len__',\n",
       " '__lt__',\n",
       " '__ne__',\n",
       " '__new__',\n",
       " '__reduce__',\n",
       " '__reduce_ex__',\n",
       " '__repr__',\n",
       " '__reversed__',\n",
       " '__setattr__',\n",
       " '__setitem__',\n",
       " '__sizeof__',\n",
       " '__str__',\n",
       " '__subclasshook__',\n",
       " 'clear',\n",
       " 'copy',\n",
       " 'fromkeys',\n",
       " 'get',\n",
       " 'items',\n",
       " 'keys',\n",
       " 'pop',\n",
       " 'popitem',\n",
       " 'setdefault',\n",
       " 'update',\n",
       " 'values']"
      ]
     },
     "execution_count": 2,
     "metadata": {},
     "output_type": "execute_result"
    }
   ],
   "source": [
    "dir(notes_eleves)"
   ]
  },
  {
   "cell_type": "code",
   "execution_count": 7,
   "metadata": {},
   "outputs": [
    {
     "data": {
      "text/plain": [
       "<function dict.pop>"
      ]
     },
     "execution_count": 7,
     "metadata": {},
     "output_type": "execute_result"
    }
   ],
   "source": [
    "notes_eleves.pop"
   ]
  },
  {
   "cell_type": "code",
   "execution_count": 18,
   "metadata": {},
   "outputs": [
    {
     "name": "stdout",
     "output_type": "stream",
     "text": [
      "15\n"
     ]
    }
   ],
   "source": [
    "print(notes_eleves[\"Anthony\"])"
   ]
  },
  {
   "cell_type": "code",
   "execution_count": 19,
   "metadata": {},
   "outputs": [
    {
     "name": "stdout",
     "output_type": "stream",
     "text": [
      "14\n"
     ]
    }
   ],
   "source": [
    "notes_eleves[\"Julien\"] = 14\n",
    "print(notes_eleves[\"Julien\"])"
   ]
  },
  {
   "cell_type": "code",
   "execution_count": 21,
   "metadata": {},
   "outputs": [
    {
     "name": "stdout",
     "output_type": "stream",
     "text": [
      "{'Anthony': 15, 'Marie': 12, 'Julien': 14, 'Mohammad': 9, 'Brahiman': 17, 'Rafik': \"C'est le formateur\"}\n"
     ]
    }
   ],
   "source": [
    "notes_eleves[\"Rafik\"] = \"C'est le formateur\"\n",
    "print(notes_eleves)"
   ]
  },
  {
   "cell_type": "code",
   "execution_count": 24,
   "metadata": {},
   "outputs": [
    {
     "name": "stdout",
     "output_type": "stream",
     "text": [
      "dict_keys(['Anthony', 'Marie', 'Julien', 'Mohammad', 'Brahiman', 'Rafik'])\n"
     ]
    }
   ],
   "source": [
    "print(notes_eleves.keys())"
   ]
  },
  {
   "cell_type": "code",
   "execution_count": 26,
   "metadata": {},
   "outputs": [
    {
     "name": "stdout",
     "output_type": "stream",
     "text": [
      "15\n",
      "12\n",
      "14\n",
      "9\n",
      "17\n",
      "C'est le formateur\n"
     ]
    }
   ],
   "source": [
    "for i in notes_eleves.values(): \n",
    "    print(i)"
   ]
  },
  {
   "cell_type": "code",
   "execution_count": 27,
   "metadata": {},
   "outputs": [
    {
     "name": "stdout",
     "output_type": "stream",
     "text": [
      "dict_items([('Anthony', 15), ('Marie', 12), ('Julien', 14), ('Mohammad', 9), ('Brahiman', 17), ('Rafik', \"C'est le formateur\")])\n"
     ]
    }
   ],
   "source": [
    "print(notes_eleves.items())"
   ]
  },
  {
   "cell_type": "code",
   "execution_count": 28,
   "metadata": {},
   "outputs": [
    {
     "name": "stdout",
     "output_type": "stream",
     "text": [
      "Anthony 15\n",
      "Marie 12\n",
      "Julien 14\n",
      "Mohammad 9\n",
      "Brahiman 17\n",
      "Rafik C'est le formateur\n"
     ]
    }
   ],
   "source": [
    "for i,j in notes_eleves.items(): \n",
    "    print(i,j) "
   ]
  },
  {
   "cell_type": "code",
   "execution_count": 1,
   "metadata": {},
   "outputs": [
    {
     "name": "stdout",
     "output_type": "stream",
     "text": [
      "46.8\n"
     ]
    }
   ],
   "source": [
    "TotalTTC = 0 \n",
    "Prix1HT = 18 \n",
    "TVA = 0.2 \n",
    "Prix1TTC = Prix1HT*(1+TVA) \n",
    "TotalTTC = TotalTTC + Prix1TTC \n",
    "Prix2HT = 21 \n",
    "Prix2TTC = Prix2HT*(1+TVA) \n",
    "TotalTTC = TotalTTC + Prix2TTC \n",
    "print(TotalTTC) "
   ]
  },
  {
   "cell_type": "code",
   "execution_count": 11,
   "metadata": {},
   "outputs": [
    {
     "name": "stdout",
     "output_type": "stream",
     "text": [
      "46.8\n"
     ]
    }
   ],
   "source": [
    "def PrixTTC(prixHT): \n",
    "    TVA = 0.2 \n",
    "    return prixHT * (1 + TVA) \n",
    " \n",
    "Prix1HT = 18 \n",
    "Prix2HT = 21 \n",
    " \n",
    "TotalTTC = 0 \n",
    "TotalTTC = TotalTTC + PrixTTC(Prix1HT)  \n",
    "TotalTTC = TotalTTC + PrixTTC(Prix2HT)  \n",
    " \n",
    "print(TotalTTC) "
   ]
  },
  {
   "cell_type": "code",
   "execution_count": 12,
   "metadata": {},
   "outputs": [
    {
     "name": "stdout",
     "output_type": "stream",
     "text": [
      "30.4\n"
     ]
    }
   ],
   "source": [
    "def PrixTTC(prixHT, TVA): \n",
    "    return prixHT * (1 + TVA)\n",
    "\n",
    "TotalTTC = 0 \n",
    "TotalTTC = TotalTTC + PrixTTC(18, 0.2)  \n",
    "TotalTTC = TotalTTC + PrixTTC(0.4, 21)\n",
    "\n",
    "print(TotalTTC)"
   ]
  },
  {
   "cell_type": "code",
   "execution_count": 13,
   "metadata": {},
   "outputs": [
    {
     "name": "stdout",
     "output_type": "stream",
     "text": [
      "51.0\n"
     ]
    }
   ],
   "source": [
    "def PrixTTC(prixHT, TVA): \n",
    "    return prixHT * (1 + TVA)\n",
    " \n",
    "TotalTTC = 0 \n",
    "TotalTTC = TotalTTC + PrixTTC(prixHT=18, TVA=0.2)  \n",
    "TotalTTC = TotalTTC + PrixTTC(TVA=0.4, prixHT=21)\n",
    "\n",
    "print(TotalTTC)"
   ]
  },
  {
   "cell_type": "code",
   "execution_count": 9,
   "metadata": {},
   "outputs": [
    {
     "name": "stdout",
     "output_type": "stream",
     "text": [
      "120.0\n",
      "120.0\n",
      "110.00000000000001\n",
      "110.00000000000001\n",
      "110.00000000000001\n"
     ]
    }
   ],
   "source": [
    "def PrixTTC(PrixHT,TVA=0.2): \n",
    "    return PrixHT * (1 + TVA) \n",
    " \n",
    "# syntaxe utilisant la valeur par défaut \n",
    "print(PrixTTC(PrixHT=100))                 # 120 \n",
    "print(PrixTTC(100))                        # 120 \n",
    " \n",
    "#syntaxe avec une TVA de 10% \n",
    "print(PrixTTC(PrixHT=100,TVA=0.1))         # 110 \n",
    "print(PrixTTC(100,0.1))                    # 110 \n",
    "print(PrixTTC(100,TVA=0.1))                # 110 "
   ]
  },
  {
   "cell_type": "code",
   "execution_count": 10,
   "metadata": {},
   "outputs": [
    {
     "name": "stdout",
     "output_type": "stream",
     "text": [
      "a :  [5, 8]\n",
      "b :  [5, 8]\n",
      "c :  [5, 8]\n"
     ]
    }
   ],
   "source": [
    "def test(a): \n",
    "    a[0] = 5 \n",
    "    a[1] = 8 \n",
    "    print('a : ',a)              # a : [5, 8] \n",
    "    return a \n",
    " \n",
    "b = [1 , 2] \n",
    "c = test(b) \n",
    "print('b : ',b)              # b : [5, 8] \n",
    "print('c : ',c)              # c : [5, 8] "
   ]
  },
  {
   "cell_type": "code",
   "execution_count": 15,
   "metadata": {},
   "outputs": [
    {
     "name": "stdout",
     "output_type": "stream",
     "text": [
      "-55\n"
     ]
    }
   ],
   "source": [
    "# Calculer le minimum d'une liste \n",
    " \n",
    "def Minimum(L) : \n",
    "    min_courant = L[0] \n",
    "    for v in L : \n",
    "       if v < min_courant : \n",
    "        min_courant = v \n",
    "    return min_courant \n",
    "    \n",
    "print( Minimum([4,88,9,-11,-55]) ) "
   ]
  },
  {
   "cell_type": "code",
   "execution_count": 18,
   "metadata": {
    "scrolled": false
   },
   "outputs": [
    {
     "name": "stdout",
     "output_type": "stream",
     "text": [
      "1 199200.0\n",
      "2 198399.2\n",
      "3 197597.59920000003\n",
      "4 196795.19679920003\n",
      "5 195991.99199599924\n",
      "6 195187.98398799525\n",
      "7 194383.17197198325\n",
      "8 193577.55514395522\n",
      "9 192771.13269909917\n",
      "10 191963.90383179826\n",
      "11 191155.86773563008\n",
      "12 190347.0236033657\n",
      "13 189537.37062696906\n",
      "14 188726.90799759602\n",
      "15 187915.63490559362\n",
      "16 187103.5505404992\n",
      "17 186290.6540910397\n",
      "18 185476.94474513075\n",
      "19 184662.4216898759\n",
      "20 183847.08411156575\n",
      "21 183030.93119567732\n",
      "22 182213.962126873\n",
      "23 181396.17608899987\n",
      "24 180577.57226508888\n",
      "25 179758.14983735397\n",
      "26 178937.9079871913\n",
      "27 178116.8458951785\n",
      "28 177294.9627410737\n",
      "29 176472.25770381477\n",
      "30 175648.72996151858\n",
      "31 174824.3786914801\n",
      "32 173999.20307017156\n",
      "33 173173.20227324174\n",
      "34 172346.37547551497\n",
      "35 171518.7218509905\n",
      "36 170690.2405728415\n",
      "37 169860.93081341434\n",
      "38 169030.79174422775\n",
      "39 168199.822535972\n",
      "40 167368.02235850797\n",
      "41 166535.39038086648\n",
      "42 165701.92577124733\n",
      "43 164867.6276970186\n",
      "44 164032.4953247156\n",
      "45 163196.5278200403\n",
      "46 162359.72434786035\n",
      "47 161522.0840722082\n",
      "48 160683.6061562804\n",
      "49 159844.2897624367\n",
      "50 159004.13405219914\n",
      "51 158163.13818625134\n",
      "52 157321.30132443758\n",
      "53 156478.62262576201\n",
      "54 155635.10124838777\n",
      "55 154790.73634963616\n",
      "56 153945.5270859858\n",
      "57 153099.4726130718\n",
      "58 152252.57208568486\n",
      "59 151404.82465777054\n",
      "60 150556.22948242832\n",
      "61 149706.78571191075\n",
      "62 148856.49249762265\n",
      "63 148005.34899012026\n",
      "64 147153.35433911037\n",
      "65 146300.50769344947\n",
      "66 145446.8082011429\n",
      "67 144592.25500934405\n",
      "68 143736.8472643534\n",
      "69 142880.58411161773\n",
      "70 142023.46469572934\n",
      "71 141165.48816042507\n",
      "72 140306.6536485855\n",
      "73 139446.96030223407\n",
      "74 138586.40726253632\n",
      "75 137724.99366979886\n",
      "76 136862.71866346867\n",
      "77 135999.58138213214\n",
      "78 135135.58096351428\n",
      "79 134270.7165444778\n",
      "80 133404.98726102227\n",
      "81 132538.3922482833\n",
      "82 131670.93064053156\n",
      "83 130802.60157117208\n",
      "84 129933.40417274325\n",
      "85 129063.33757691599\n",
      "86 128192.4009144929\n",
      "87 127320.59331540739\n",
      "88 126447.9139087228\n",
      "89 125574.36182263152\n",
      "90 124699.93618445414\n",
      "91 123824.63612063859\n",
      "92 122948.46075675923\n",
      "93 122071.40921751599\n",
      "94 121193.48062673351\n",
      "95 120314.67410736025\n",
      "96 119434.9887814676\n",
      "97 118554.42377024906\n",
      "98 117672.97819401932\n",
      "99 116790.65117221334\n",
      "100 115907.44182338555\n",
      "101 115023.34926520893\n",
      "102 114138.37261447414\n",
      "103 113252.51098708861\n",
      "104 112365.7634980757\n",
      "105 111478.12926157378\n",
      "106 110589.60739083536\n",
      "107 109700.1969982262\n",
      "108 108809.89719522442\n",
      "109 107918.70709241965\n",
      "110 107026.62579951207\n",
      "111 106133.65242531158\n",
      "112 105239.78607773689\n",
      "113 104345.02586381463\n",
      "114 103449.37088967845\n",
      "115 102552.82026056813\n",
      "116 101655.3730808287\n",
      "117 100757.02845390952\n",
      "118 99857.78548236343\n",
      "119 98957.6432678458\n",
      "120 98056.60091111364\n",
      "121 97154.65751202476\n",
      "122 96251.81216953679\n",
      "123 95348.06398170632\n",
      "124 94443.41204568803\n",
      "125 93537.85545773372\n",
      "126 92631.39331319145\n",
      "127 91724.02470650464\n",
      "128 90815.74873121115\n",
      "129 89906.56447994236\n",
      "130 88996.4710444223\n",
      "131 88085.46751546672\n",
      "132 87173.55298298219\n",
      "133 86260.72653596518\n",
      "134 85346.98726250115\n",
      "135 84432.33424976365\n",
      "136 83516.76658401341\n",
      "137 82600.28335059743\n",
      "138 81682.88363394802\n",
      "139 80764.56651758196\n",
      "140 79845.33108409954\n",
      "141 78925.17641518364\n",
      "142 78004.10159159882\n",
      "143 77082.10569319042\n",
      "144 76159.1877988836\n",
      "145 75235.34698668249\n",
      "146 74310.58233366917\n",
      "147 73384.89291600283\n",
      "148 72458.27780891884\n",
      "149 71530.73608672776\n",
      "150 70602.26682281449\n",
      "151 69672.8690896373\n",
      "152 68742.54195872694\n",
      "153 67811.28450068567\n",
      "154 66879.09578518635\n",
      "155 65945.97488097154\n",
      "156 65011.92085585251\n",
      "157 64076.93277670837\n",
      "158 63141.00970948508\n",
      "159 62204.150719194564\n",
      "160 61266.35486991376\n",
      "161 60327.621224783674\n",
      "162 59387.948846008454\n",
      "163 58447.33679485446\n",
      "164 57505.784131649314\n",
      "165 56563.289915780966\n",
      "166 55619.853205696745\n",
      "167 54675.47305890244\n",
      "168 53730.14853196134\n",
      "169 52783.878680493304\n",
      "170 51836.6625591738\n",
      "171 50888.49922173297\n",
      "172 49939.387720954706\n",
      "173 48989.32710867566\n",
      "174 48038.316435784334\n",
      "175 47086.35475222012\n",
      "176 46133.441106972336\n",
      "177 45179.574548079305\n",
      "178 44224.75412262738\n",
      "179 43268.97887675001\n",
      "180 42312.24785562676\n",
      "181 41354.560103482385\n",
      "182 40395.91466358587\n",
      "183 39436.31057824945\n",
      "184 38475.7468888277\n",
      "185 37514.22263571653\n",
      "186 36551.73685835225\n",
      "187 35588.2885952106\n",
      "188 34623.87688380581\n",
      "189 33658.50076068962\n",
      "190 32692.159261450306\n",
      "191 31724.851420711755\n",
      "192 30756.576272132468\n",
      "193 29787.3328484046\n",
      "194 28817.120181253005\n",
      "195 27845.93730143426\n",
      "196 26873.783238735694\n",
      "197 25900.657021974428\n",
      "198 24926.557678996403\n",
      "199 23951.4842366754\n",
      "200 22975.435720912075\n",
      "201 21998.41115663299\n",
      "202 21020.409567789622\n",
      "203 20041.429977357413\n",
      "204 19061.47140733477\n",
      "205 18080.532878742106\n",
      "206 17098.61341162085\n",
      "207 16115.71202503247\n",
      "208 15131.827737057502\n",
      "209 14146.959564794559\n",
      "210 13161.106524359353\n",
      "211 12174.267630883713\n",
      "212 11186.441898514597\n",
      "213 10197.628340413112\n",
      "214 9207.825968753525\n",
      "215 8217.033794722278\n",
      "216 7225.250828517001\n",
      "217 6232.476079345518\n",
      "218 5238.708555424863\n",
      "219 4243.947263980288\n",
      "220 3248.1912112442683\n",
      "221 2251.4394024555127\n",
      "222 1253.6908418579683\n",
      "223 254.94453269982625\n",
      "Somme empruntée :  200000\n",
      "Mensualités     :  1000\n",
      "Nombre de mois  :  224\n",
      "Intérêts versés :  23254\n"
     ]
    },
    {
     "data": {
      "text/plain": [
       "'\\nSomme empruntée        : 200000 \\nMensualités            : 1000 \\nNombre de mois         : 224 \\nIntérêts versés        : 23254 '"
      ]
     },
     "execution_count": 18,
     "metadata": {},
     "output_type": "execute_result"
    }
   ],
   "source": [
    "# Calculer la durée de remboursement d'un prêt \n",
    "def Remboursement(montant_a_rembourser,taux_mensuel,versement) : \n",
    "    interets_verses = montant_a_rembourser * taux_mensuel / 100 \n",
    "    remboursement = versement - interets_verses \n",
    "    return (interets_verses, remboursement) \n",
    "    \n",
    "emprunt = 200000 \n",
    "a_rembourser = emprunt \n",
    "versement = 1000 \n",
    "total_interet = 0 \n",
    "taux = 0.1 \n",
    "nb_mois = 0 \n",
    " \n",
    "while (a_rembourser > versement ) :  \n",
    "    interets, rembou = Remboursement(a_rembourser,taux,versement) \n",
    "    total_interet += interets \n",
    "    a_rembourser -= rembou \n",
    "    nb_mois += 1 \n",
    "    print(nb_mois, a_rembourser)\n",
    "\n",
    "nb_mois +=1 # dernier mois \n",
    " \n",
    "print(\"Somme empruntée : \",emprunt) \n",
    "print(\"Mensualités     : \",versement) \n",
    "print(\"Nombre de mois  : \", nb_mois) \n",
    "print(\"Intérêts versés : \", int(total_interet)) \n",
    "\"\"\"\n",
    "Somme empruntée        : 200000 \n",
    "Mensualités            : 1000 \n",
    "Nombre de mois         : 224 \n",
    "Intérêts versés        : 23254 \"\"\""
   ]
  },
  {
   "cell_type": "code",
   "execution_count": null,
   "metadata": {},
   "outputs": [],
   "source": []
  }
 ],
 "metadata": {
  "kernelspec": {
   "display_name": "Python 3",
   "language": "python",
   "name": "python3"
  },
  "language_info": {
   "codemirror_mode": {
    "name": "ipython",
    "version": 3
   },
   "file_extension": ".py",
   "mimetype": "text/x-python",
   "name": "python",
   "nbconvert_exporter": "python",
   "pygments_lexer": "ipython3",
   "version": "3.8.3"
  }
 },
 "nbformat": 4,
 "nbformat_minor": 4
}
