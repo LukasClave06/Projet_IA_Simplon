{
 "cells": [
  {
   "cell_type": "markdown",
   "metadata": {},
   "source": [
    "# Traiter les valeurs manquantes"
   ]
  },
  {
   "cell_type": "markdown",
   "metadata": {
    "collapsed": true
   },
   "source": [
    "## Trouver les valeurs manquantes"
   ]
  },
  {
   "cell_type": "markdown",
   "metadata": {},
   "source": [
    "- Lire le dataset titanic_survival.csv"
   ]
  },
  {
   "cell_type": "markdown",
   "metadata": {},
   "source": [
    "- Compter le nombre de valeurs dans la colonne \"age\" possédant des valeurs manquantes:\n",
    ">- Assigner à la variable age la colonne des ages du dataframe titanic_survival\n",
    ">- Utiliser pandas.isnull() sur la variable age pour créer une Series de valeurs True et False\n",
    ">- Utiliser la Series résultante pour sélectionner seulement les élements de la colonne \"age\" qui sont nuls et assigner le résultat à la variable age_null\n",
    ">- Assigner le nombre de valeurs manquantes de age_null à la variable age_null_count (fonction len() )\n",
    "- Afficher age_null_count pour voir le nombre de valeurs manquantes de la colonne \"age\""
   ]
  },
  {
   "cell_type": "code",
   "execution_count": 2,
   "metadata": {},
   "outputs": [],
   "source": [
    "import pandas as pd\n",
    "\n",
    "titanic_survival = pd.read_csv(\"Jeux_de_donnees/titanic_survival.csv\")"
   ]
  },
  {
   "cell_type": "code",
   "execution_count": 3,
   "metadata": {},
   "outputs": [
    {
     "name": "stdout",
     "output_type": "stream",
     "text": [
      "10    47.0\n",
      "11    18.0\n",
      "12    24.0\n",
      "13    26.0\n",
      "14    80.0\n",
      "15     NaN\n",
      "16    24.0\n",
      "17    50.0\n",
      "18    32.0\n",
      "19    36.0\n",
      "20    37.0\n",
      "21    47.0\n",
      "22    26.0\n",
      "23    42.0\n",
      "24    29.0\n",
      "25    25.0\n",
      "Name: age, dtype: float64\n"
     ]
    }
   ],
   "source": [
    "age = titanic_survival[\"age\"]\n",
    "print(age.loc[10:25])"
   ]
  },
  {
   "cell_type": "code",
   "execution_count": 4,
   "metadata": {},
   "outputs": [
    {
     "name": "stdout",
     "output_type": "stream",
     "text": [
      "0       False\n",
      "1       False\n",
      "2       False\n",
      "3       False\n",
      "4       False\n",
      "        ...  \n",
      "1305     True\n",
      "1306    False\n",
      "1307    False\n",
      "1308    False\n",
      "1309     True\n",
      "Name: age, Length: 1310, dtype: bool\n"
     ]
    }
   ],
   "source": [
    "print(pd.isnull(age))"
   ]
  },
  {
   "cell_type": "code",
   "execution_count": 5,
   "metadata": {},
   "outputs": [
    {
     "name": "stdout",
     "output_type": "stream",
     "text": [
      "264\n"
     ]
    }
   ],
   "source": [
    "age_is_null = pd.isnull(age)\n",
    "age_null = age[age_is_null]\n",
    "age_null_count = len(age_null)\n",
    "print(age_null_count)"
   ]
  },
  {
   "cell_type": "code",
   "execution_count": 6,
   "metadata": {
    "scrolled": true
   },
   "outputs": [
    {
     "name": "stdout",
     "output_type": "stream",
     "text": [
      "15     NaN\n",
      "37     NaN\n",
      "40     NaN\n",
      "46     NaN\n",
      "59     NaN\n",
      "        ..\n",
      "1297   NaN\n",
      "1302   NaN\n",
      "1303   NaN\n",
      "1305   NaN\n",
      "1309   NaN\n",
      "Name: age, Length: 264, dtype: float64\n"
     ]
    }
   ],
   "source": [
    "print(age_null)"
   ]
  },
  {
   "cell_type": "markdown",
   "metadata": {},
   "source": [
    "## Problème avec les valeurs manquantes"
   ]
  },
  {
   "cell_type": "markdown",
   "metadata": {},
   "source": [
    "- Utiliser age_is_null pour créer un vecteur qui contient seulement les valeurs de la colonne \"age\" qui ne sont pas NaN (c'est à dire pour lesquelles age_is_null vaut False)\n",
    "- Assigner ce résultat à la variable good_ages\n",
    "- Calculer la moyenne de ce nouveau vecteur et assigner le résultat à la variable mean_age\n",
    "- Afficher cette moyenne."
   ]
  },
  {
   "cell_type": "code",
   "execution_count": 7,
   "metadata": {},
   "outputs": [
    {
     "name": "stdout",
     "output_type": "stream",
     "text": [
      "29.8811345124283\n"
     ]
    }
   ],
   "source": [
    "age_is_null = pd.isnull(titanic_survival[\"age\"])\n",
    "good_ages = titanic_survival[\"age\"][age_is_null == False]\n",
    "mean_age = sum(good_ages) / len(good_ages)\n",
    "print(mean_age)"
   ]
  },
  {
   "cell_type": "markdown",
   "metadata": {},
   "source": [
    "## Calculer une moyenne plus simplement"
   ]
  },
  {
   "cell_type": "markdown",
   "metadata": {},
   "source": [
    "- Assigner la moyenne de la colonne \"fare\" à la variable mean_fare.\n",
    "- Afficher le résultat."
   ]
  },
  {
   "cell_type": "code",
   "execution_count": 8,
   "metadata": {},
   "outputs": [
    {
     "name": "stdout",
     "output_type": "stream",
     "text": [
      "33.29547928134572\n"
     ]
    }
   ],
   "source": [
    "mean_fare = titanic_survival[\"fare\"].mean()\n",
    "print(mean_fare)"
   ]
  },
  {
   "cell_type": "markdown",
   "metadata": {},
   "source": [
    "## Calculer des statistiques de prix"
   ]
  },
  {
   "cell_type": "markdown",
   "metadata": {},
   "source": [
    "- Créer un dictionnaire vide qu'on nommera fares_by_class.\n",
    "- Créer la liste passenger_classes qui contient les éléments [1,2,3].\n",
    "- Utiliser une boucle for pour parcourir la liste passenger_classes:\n",
    ">- Sélectionner juste les lignes de titanic_survival pour lesquelles la colonne pclass est égale à la variable temporaire (l'itérareur) de la boucle for, c'est à dire correspondant au numéro de classe (1, 2 ou 3)\n",
    ">- Sélectionner seulement la colonne fare pour ce sous-ensemble de lignes (correspondant à la classe)\n",
    ">- Utiliser la méthode Series.mean() pour calculer la moyenne de ce sous-ensemble\n",
    ">- Ajouter cette moyenne calculée de la classe au dictionnaire fares_by_class avec comme clé le numéro de la classe (et donc comme valeur la moyenne du prix du billet d'embarquement)\n",
    "- Une fois la boucle achevée, le dictionnaire fares_by_class devrait avoir 1,2 et 3 comme clés avec en valeur les moyennes correpondantes.\n",
    "- Afficher le résultat."
   ]
  },
  {
   "cell_type": "code",
   "execution_count": 9,
   "metadata": {},
   "outputs": [
    {
     "name": "stdout",
     "output_type": "stream",
     "text": [
      "{1: 87.50899164086687, 2: 21.1791963898917, 3: 13.302888700564957}\n"
     ]
    }
   ],
   "source": [
    "fares_by_class = {}\n",
    "passenger_classes = [1,2,3]\n",
    "\n",
    "for this_class in passenger_classes:\n",
    "    is_class = (titanic_survival[\"pclass\"] == this_class)\n",
    "    pclass_rows = titanic_survival[is_class]\n",
    "    pclass_fares = pclass_rows[\"fare\"]\n",
    "    fare_for_class = pclass_fares.mean()\n",
    "    fares_by_class[this_class] = fare_for_class\n",
    "    \n",
    "print(fares_by_class)"
   ]
  },
  {
   "cell_type": "markdown",
   "metadata": {},
   "source": [
    "## Introduction aux pivots de table"
   ]
  },
  {
   "cell_type": "markdown",
   "metadata": {},
   "source": [
    "Le pivots de table est un moyen de créer un sous ensemble directment sur une colonne et d'effectuer un calcul sur une colonne comme la somme ou une moyenne. \n",
    "\n",
    "- Utiliser la méthode dataFrame.pivot_table() pour calculer la moyenne de l'âge pour chaque classe de passager (\"pclass\").\n",
    "- Assigner le résultat à la variable passenger_age.\n",
    "- Afficher passenger_age.\n",
    "- Faire de même avec la colonne survived pour chaque classe de passager."
   ]
  },
  {
   "cell_type": "code",
   "execution_count": 11,
   "metadata": {},
   "outputs": [
    {
     "name": "stdout",
     "output_type": "stream",
     "text": [
      "              age\n",
      "pclass           \n",
      "1.0     39.159918\n",
      "2.0     29.506705\n",
      "3.0     24.816367\n"
     ]
    }
   ],
   "source": [
    "passenger_age = titanic_survival.pivot_table(index=\"pclass\", values=\"age\")\n",
    "print(passenger_age)"
   ]
  },
  {
   "cell_type": "code",
   "execution_count": 12,
   "metadata": {},
   "outputs": [
    {
     "name": "stdout",
     "output_type": "stream",
     "text": [
      "        survived\n",
      "pclass          \n",
      "1.0     0.619195\n",
      "2.0     0.429603\n",
      "3.0     0.255289\n"
     ]
    }
   ],
   "source": [
    "passenger_survival = titanic_survival.pivot_table(index=\"pclass\", values=\"survived\")\n",
    "print(passenger_survival)"
   ]
  },
  {
   "cell_type": "markdown",
   "metadata": {},
   "source": [
    "## Tables Pivot Niveau 2"
   ]
  },
  {
   "cell_type": "markdown",
   "metadata": {},
   "source": [
    "- Faire un pivot de table qui calcule le total d'argent encaissé (\"fare\") et le nombre total de survivants (\"survived\") pour chaque port d'embarcation (\"embarked\"). Il faudra utiliser la fonction numpy.sum\n",
    "- Assigner le résultat à la variable port_stats.\n",
    "- Afficher le résultat."
   ]
  },
  {
   "cell_type": "code",
   "execution_count": 14,
   "metadata": {},
   "outputs": [
    {
     "name": "stdout",
     "output_type": "stream",
     "text": [
      "                fare  survived\n",
      "embarked                      \n",
      "C         16830.7922     150.0\n",
      "Q          1526.3085      44.0\n",
      "S         25033.3862     304.0\n"
     ]
    }
   ],
   "source": [
    "import numpy as np\n",
    "\n",
    "port_stats = titanic_survival.pivot_table(index=\"embarked\", values=[\"fare\",\"survived\"], aggfunc=np.sum)\n",
    "print(port_stats)"
   ]
  },
  {
   "cell_type": "markdown",
   "metadata": {},
   "source": [
    "## Eliminer les valeurs manquantes"
   ]
  },
  {
   "cell_type": "markdown",
   "metadata": {},
   "source": [
    "- Supprimer toutes les lignes de titanic_survival pour lesquelles les colonnes \"age\" ou \"sex\" ont des valeurs manquantes et assigner le résultat à la variable new_titanic_survival.\n",
    "- Comparer le nombre de lignes qu'il reste avec l'attribut shape."
   ]
  },
  {
   "cell_type": "code",
   "execution_count": 15,
   "metadata": {},
   "outputs": [
    {
     "data": {
      "text/html": [
       "<div>\n",
       "<style scoped>\n",
       "    .dataframe tbody tr th:only-of-type {\n",
       "        vertical-align: middle;\n",
       "    }\n",
       "\n",
       "    .dataframe tbody tr th {\n",
       "        vertical-align: top;\n",
       "    }\n",
       "\n",
       "    .dataframe thead th {\n",
       "        text-align: right;\n",
       "    }\n",
       "</style>\n",
       "<table border=\"1\" class=\"dataframe\">\n",
       "  <thead>\n",
       "    <tr style=\"text-align: right;\">\n",
       "      <th></th>\n",
       "      <th>pclass</th>\n",
       "      <th>survived</th>\n",
       "      <th>name</th>\n",
       "      <th>sex</th>\n",
       "      <th>age</th>\n",
       "      <th>sibsp</th>\n",
       "      <th>parch</th>\n",
       "      <th>ticket</th>\n",
       "      <th>fare</th>\n",
       "      <th>cabin</th>\n",
       "      <th>embarked</th>\n",
       "      <th>boat</th>\n",
       "      <th>body</th>\n",
       "      <th>home.dest</th>\n",
       "    </tr>\n",
       "  </thead>\n",
       "  <tbody>\n",
       "    <tr>\n",
       "      <th>0</th>\n",
       "      <td>1.0</td>\n",
       "      <td>1.0</td>\n",
       "      <td>Allen, Miss. Elisabeth Walton</td>\n",
       "      <td>female</td>\n",
       "      <td>29.0000</td>\n",
       "      <td>0.0</td>\n",
       "      <td>0.0</td>\n",
       "      <td>24160</td>\n",
       "      <td>211.3375</td>\n",
       "      <td>B5</td>\n",
       "      <td>S</td>\n",
       "      <td>2</td>\n",
       "      <td>NaN</td>\n",
       "      <td>St Louis, MO</td>\n",
       "    </tr>\n",
       "    <tr>\n",
       "      <th>1</th>\n",
       "      <td>1.0</td>\n",
       "      <td>1.0</td>\n",
       "      <td>Allison, Master. Hudson Trevor</td>\n",
       "      <td>male</td>\n",
       "      <td>0.9167</td>\n",
       "      <td>1.0</td>\n",
       "      <td>2.0</td>\n",
       "      <td>113781</td>\n",
       "      <td>151.5500</td>\n",
       "      <td>C22 C26</td>\n",
       "      <td>S</td>\n",
       "      <td>11</td>\n",
       "      <td>NaN</td>\n",
       "      <td>Montreal, PQ / Chesterville, ON</td>\n",
       "    </tr>\n",
       "    <tr>\n",
       "      <th>2</th>\n",
       "      <td>1.0</td>\n",
       "      <td>0.0</td>\n",
       "      <td>Allison, Miss. Helen Loraine</td>\n",
       "      <td>female</td>\n",
       "      <td>2.0000</td>\n",
       "      <td>1.0</td>\n",
       "      <td>2.0</td>\n",
       "      <td>113781</td>\n",
       "      <td>151.5500</td>\n",
       "      <td>C22 C26</td>\n",
       "      <td>S</td>\n",
       "      <td>NaN</td>\n",
       "      <td>NaN</td>\n",
       "      <td>Montreal, PQ / Chesterville, ON</td>\n",
       "    </tr>\n",
       "    <tr>\n",
       "      <th>3</th>\n",
       "      <td>1.0</td>\n",
       "      <td>0.0</td>\n",
       "      <td>Allison, Mr. Hudson Joshua Creighton</td>\n",
       "      <td>male</td>\n",
       "      <td>30.0000</td>\n",
       "      <td>1.0</td>\n",
       "      <td>2.0</td>\n",
       "      <td>113781</td>\n",
       "      <td>151.5500</td>\n",
       "      <td>C22 C26</td>\n",
       "      <td>S</td>\n",
       "      <td>NaN</td>\n",
       "      <td>135.0</td>\n",
       "      <td>Montreal, PQ / Chesterville, ON</td>\n",
       "    </tr>\n",
       "    <tr>\n",
       "      <th>4</th>\n",
       "      <td>1.0</td>\n",
       "      <td>0.0</td>\n",
       "      <td>Allison, Mrs. Hudson J C (Bessie Waldo Daniels)</td>\n",
       "      <td>female</td>\n",
       "      <td>25.0000</td>\n",
       "      <td>1.0</td>\n",
       "      <td>2.0</td>\n",
       "      <td>113781</td>\n",
       "      <td>151.5500</td>\n",
       "      <td>C22 C26</td>\n",
       "      <td>S</td>\n",
       "      <td>NaN</td>\n",
       "      <td>NaN</td>\n",
       "      <td>Montreal, PQ / Chesterville, ON</td>\n",
       "    </tr>\n",
       "    <tr>\n",
       "      <th>...</th>\n",
       "      <td>...</td>\n",
       "      <td>...</td>\n",
       "      <td>...</td>\n",
       "      <td>...</td>\n",
       "      <td>...</td>\n",
       "      <td>...</td>\n",
       "      <td>...</td>\n",
       "      <td>...</td>\n",
       "      <td>...</td>\n",
       "      <td>...</td>\n",
       "      <td>...</td>\n",
       "      <td>...</td>\n",
       "      <td>...</td>\n",
       "      <td>...</td>\n",
       "    </tr>\n",
       "    <tr>\n",
       "      <th>1301</th>\n",
       "      <td>3.0</td>\n",
       "      <td>0.0</td>\n",
       "      <td>Youseff, Mr. Gerious</td>\n",
       "      <td>male</td>\n",
       "      <td>45.5000</td>\n",
       "      <td>0.0</td>\n",
       "      <td>0.0</td>\n",
       "      <td>2628</td>\n",
       "      <td>7.2250</td>\n",
       "      <td>NaN</td>\n",
       "      <td>C</td>\n",
       "      <td>NaN</td>\n",
       "      <td>312.0</td>\n",
       "      <td>NaN</td>\n",
       "    </tr>\n",
       "    <tr>\n",
       "      <th>1304</th>\n",
       "      <td>3.0</td>\n",
       "      <td>0.0</td>\n",
       "      <td>Zabour, Miss. Hileni</td>\n",
       "      <td>female</td>\n",
       "      <td>14.5000</td>\n",
       "      <td>1.0</td>\n",
       "      <td>0.0</td>\n",
       "      <td>2665</td>\n",
       "      <td>14.4542</td>\n",
       "      <td>NaN</td>\n",
       "      <td>C</td>\n",
       "      <td>NaN</td>\n",
       "      <td>328.0</td>\n",
       "      <td>NaN</td>\n",
       "    </tr>\n",
       "    <tr>\n",
       "      <th>1306</th>\n",
       "      <td>3.0</td>\n",
       "      <td>0.0</td>\n",
       "      <td>Zakarian, Mr. Mapriededer</td>\n",
       "      <td>male</td>\n",
       "      <td>26.5000</td>\n",
       "      <td>0.0</td>\n",
       "      <td>0.0</td>\n",
       "      <td>2656</td>\n",
       "      <td>7.2250</td>\n",
       "      <td>NaN</td>\n",
       "      <td>C</td>\n",
       "      <td>NaN</td>\n",
       "      <td>304.0</td>\n",
       "      <td>NaN</td>\n",
       "    </tr>\n",
       "    <tr>\n",
       "      <th>1307</th>\n",
       "      <td>3.0</td>\n",
       "      <td>0.0</td>\n",
       "      <td>Zakarian, Mr. Ortin</td>\n",
       "      <td>male</td>\n",
       "      <td>27.0000</td>\n",
       "      <td>0.0</td>\n",
       "      <td>0.0</td>\n",
       "      <td>2670</td>\n",
       "      <td>7.2250</td>\n",
       "      <td>NaN</td>\n",
       "      <td>C</td>\n",
       "      <td>NaN</td>\n",
       "      <td>NaN</td>\n",
       "      <td>NaN</td>\n",
       "    </tr>\n",
       "    <tr>\n",
       "      <th>1308</th>\n",
       "      <td>3.0</td>\n",
       "      <td>0.0</td>\n",
       "      <td>Zimmerman, Mr. Leo</td>\n",
       "      <td>male</td>\n",
       "      <td>29.0000</td>\n",
       "      <td>0.0</td>\n",
       "      <td>0.0</td>\n",
       "      <td>315082</td>\n",
       "      <td>7.8750</td>\n",
       "      <td>NaN</td>\n",
       "      <td>S</td>\n",
       "      <td>NaN</td>\n",
       "      <td>NaN</td>\n",
       "      <td>NaN</td>\n",
       "    </tr>\n",
       "  </tbody>\n",
       "</table>\n",
       "<p>1046 rows × 14 columns</p>\n",
       "</div>"
      ],
      "text/plain": [
       "      pclass  survived                                             name  \\\n",
       "0        1.0       1.0                    Allen, Miss. Elisabeth Walton   \n",
       "1        1.0       1.0                   Allison, Master. Hudson Trevor   \n",
       "2        1.0       0.0                     Allison, Miss. Helen Loraine   \n",
       "3        1.0       0.0             Allison, Mr. Hudson Joshua Creighton   \n",
       "4        1.0       0.0  Allison, Mrs. Hudson J C (Bessie Waldo Daniels)   \n",
       "...      ...       ...                                              ...   \n",
       "1301     3.0       0.0                             Youseff, Mr. Gerious   \n",
       "1304     3.0       0.0                             Zabour, Miss. Hileni   \n",
       "1306     3.0       0.0                        Zakarian, Mr. Mapriededer   \n",
       "1307     3.0       0.0                              Zakarian, Mr. Ortin   \n",
       "1308     3.0       0.0                               Zimmerman, Mr. Leo   \n",
       "\n",
       "         sex      age  sibsp  parch  ticket      fare    cabin embarked boat  \\\n",
       "0     female  29.0000    0.0    0.0   24160  211.3375       B5        S    2   \n",
       "1       male   0.9167    1.0    2.0  113781  151.5500  C22 C26        S   11   \n",
       "2     female   2.0000    1.0    2.0  113781  151.5500  C22 C26        S  NaN   \n",
       "3       male  30.0000    1.0    2.0  113781  151.5500  C22 C26        S  NaN   \n",
       "4     female  25.0000    1.0    2.0  113781  151.5500  C22 C26        S  NaN   \n",
       "...      ...      ...    ...    ...     ...       ...      ...      ...  ...   \n",
       "1301    male  45.5000    0.0    0.0    2628    7.2250      NaN        C  NaN   \n",
       "1304  female  14.5000    1.0    0.0    2665   14.4542      NaN        C  NaN   \n",
       "1306    male  26.5000    0.0    0.0    2656    7.2250      NaN        C  NaN   \n",
       "1307    male  27.0000    0.0    0.0    2670    7.2250      NaN        C  NaN   \n",
       "1308    male  29.0000    0.0    0.0  315082    7.8750      NaN        S  NaN   \n",
       "\n",
       "       body                        home.dest  \n",
       "0       NaN                     St Louis, MO  \n",
       "1       NaN  Montreal, PQ / Chesterville, ON  \n",
       "2       NaN  Montreal, PQ / Chesterville, ON  \n",
       "3     135.0  Montreal, PQ / Chesterville, ON  \n",
       "4       NaN  Montreal, PQ / Chesterville, ON  \n",
       "...     ...                              ...  \n",
       "1301  312.0                              NaN  \n",
       "1304  328.0                              NaN  \n",
       "1306  304.0                              NaN  \n",
       "1307    NaN                              NaN  \n",
       "1308    NaN                              NaN  \n",
       "\n",
       "[1046 rows x 14 columns]"
      ]
     },
     "execution_count": 15,
     "metadata": {},
     "output_type": "execute_result"
    }
   ],
   "source": [
    "#axis = 0 pour supprimer les lignes et axis = 1 pour supprimer les colonnes\n",
    "new_titanic_survival = titanic_survival.dropna(axis=0, subset=[\"age\", \"sex\"])\n",
    "new_titanic_survival"
   ]
  },
  {
   "cell_type": "code",
   "execution_count": 16,
   "metadata": {},
   "outputs": [
    {
     "name": "stdout",
     "output_type": "stream",
     "text": [
      "(1046, 14)\n",
      "(1310, 14)\n"
     ]
    }
   ],
   "source": [
    "print(new_titanic_survival.shape)\n",
    "print(titanic_survival.shape)"
   ]
  },
  {
   "cell_type": "markdown",
   "metadata": {},
   "source": [
    "## iloc pour accéder à des lignes"
   ]
  },
  {
   "cell_type": "markdown",
   "metadata": {},
   "source": [
    "- Assigner les 10 premières lignes de new_titanic_survival à la variable first_ten_rows.\n",
    "- Assigner la 5e ligne de new_titanic_survival à la variable row_position-fifth.\n",
    "- Assigner la ligne dont l'intitulé d'index est 25 pour new_titanic_survival à la variable row_index_25."
   ]
  },
  {
   "cell_type": "code",
   "execution_count": 18,
   "metadata": {},
   "outputs": [],
   "source": [
    "first_ten_rows = new_titanic_survival.iloc[0:10]\n",
    "row_position_fifth = new_titanic_survival.iloc[4]\n",
    "row_index_25 = new_titanic_survival.loc[25]"
   ]
  },
  {
   "cell_type": "markdown",
   "metadata": {},
   "source": [
    "## Les index de colonne"
   ]
  },
  {
   "cell_type": "markdown",
   "metadata": {},
   "source": [
    "- Assigner la valeur d'intitule de ligne 1100 pour la colonne \"age\" de new_titanic_survival à la variable row_index_1100_age.\n",
    "- Assigner la valeur d'intitulé de ligne 25 pour la colonne \"survived\" de new_titanic_survival à la variable row_index_25_survived.\n",
    "- Assigner les 5 premières lignes et 3 premières colonnes de new_titanic_survival à la variable five_rows_three_cols.\n",
    "- Afficher tous les résultats."
   ]
  },
  {
   "cell_type": "code",
   "execution_count": 19,
   "metadata": {},
   "outputs": [],
   "source": [
    "row_index_1100_age = new_titanic_survival.loc[1100,\"age\"]\n",
    "row_index_25_survived = new_titanic_survival.loc[25,\"survived\"]\n",
    "five_rows_three_cols = new_titanic_survival.iloc[0:5,0:3]"
   ]
  },
  {
   "cell_type": "code",
   "execution_count": 20,
   "metadata": {},
   "outputs": [
    {
     "name": "stdout",
     "output_type": "stream",
     "text": [
      "<class 'numpy.float64'>\n"
     ]
    }
   ],
   "source": [
    "print(type(row_index_25_survived))"
   ]
  },
  {
   "cell_type": "code",
   "execution_count": 16,
   "metadata": {},
   "outputs": [
    {
     "name": "stdout",
     "output_type": "stream",
     "text": [
      "   pclass  survived                                             name\n",
      "0     1.0       1.0                    Allen, Miss. Elisabeth Walton\n",
      "1     1.0       1.0                   Allison, Master. Hudson Trevor\n",
      "2     1.0       0.0                     Allison, Miss. Helen Loraine\n",
      "3     1.0       0.0             Allison, Mr. Hudson Joshua Creighton\n",
      "4     1.0       0.0  Allison, Mrs. Hudson J C (Bessie Waldo Daniels)\n"
     ]
    }
   ],
   "source": [
    "print(five_rows_three_cols)"
   ]
  },
  {
   "cell_type": "markdown",
   "metadata": {},
   "source": [
    "## Réindexer les lignes d'un dataframe"
   ]
  },
  {
   "cell_type": "markdown",
   "metadata": {},
   "source": [
    "- Ré-indexer le dataframe new_titanic_survival pour que la première ligne commence à 0 et supprimer l'ancien indexage.\n",
    "- Assigner le résultat à la variable titanic_reindexed.\n",
    "- Afficher les 5 premières lignes et 3 premières colonnes de titanic_reindexed."
   ]
  },
  {
   "cell_type": "code",
   "execution_count": 28,
   "metadata": {},
   "outputs": [
    {
     "data": {
      "text/html": [
       "<div>\n",
       "<style scoped>\n",
       "    .dataframe tbody tr th:only-of-type {\n",
       "        vertical-align: middle;\n",
       "    }\n",
       "\n",
       "    .dataframe tbody tr th {\n",
       "        vertical-align: top;\n",
       "    }\n",
       "\n",
       "    .dataframe thead th {\n",
       "        text-align: right;\n",
       "    }\n",
       "</style>\n",
       "<table border=\"1\" class=\"dataframe\">\n",
       "  <thead>\n",
       "    <tr style=\"text-align: right;\">\n",
       "      <th></th>\n",
       "      <th>pclass</th>\n",
       "      <th>survived</th>\n",
       "      <th>name</th>\n",
       "    </tr>\n",
       "  </thead>\n",
       "  <tbody>\n",
       "    <tr>\n",
       "      <th>0</th>\n",
       "      <td>1.0</td>\n",
       "      <td>1.0</td>\n",
       "      <td>Allen, Miss. Elisabeth Walton</td>\n",
       "    </tr>\n",
       "    <tr>\n",
       "      <th>1</th>\n",
       "      <td>1.0</td>\n",
       "      <td>1.0</td>\n",
       "      <td>Allison, Master. Hudson Trevor</td>\n",
       "    </tr>\n",
       "    <tr>\n",
       "      <th>2</th>\n",
       "      <td>1.0</td>\n",
       "      <td>0.0</td>\n",
       "      <td>Allison, Miss. Helen Loraine</td>\n",
       "    </tr>\n",
       "    <tr>\n",
       "      <th>3</th>\n",
       "      <td>1.0</td>\n",
       "      <td>0.0</td>\n",
       "      <td>Allison, Mr. Hudson Joshua Creighton</td>\n",
       "    </tr>\n",
       "    <tr>\n",
       "      <th>4</th>\n",
       "      <td>1.0</td>\n",
       "      <td>0.0</td>\n",
       "      <td>Allison, Mrs. Hudson J C (Bessie Waldo Daniels)</td>\n",
       "    </tr>\n",
       "  </tbody>\n",
       "</table>\n",
       "</div>"
      ],
      "text/plain": [
       "   pclass  survived                                             name\n",
       "0     1.0       1.0                    Allen, Miss. Elisabeth Walton\n",
       "1     1.0       1.0                   Allison, Master. Hudson Trevor\n",
       "2     1.0       0.0                     Allison, Miss. Helen Loraine\n",
       "3     1.0       0.0             Allison, Mr. Hudson Joshua Creighton\n",
       "4     1.0       0.0  Allison, Mrs. Hudson J C (Bessie Waldo Daniels)"
      ]
     },
     "execution_count": 28,
     "metadata": {},
     "output_type": "execute_result"
    }
   ],
   "source": [
    "titanic_reindexed = new_titanic_survival.reset_index(drop=True)\n",
    "titanic_reindexed.iloc[0:5,0:3]"
   ]
  },
  {
   "cell_type": "markdown",
   "metadata": {},
   "source": [
    "## Appliquer des fonctions sur un DataFrame"
   ]
  },
  {
   "cell_type": "markdown",
   "metadata": {},
   "source": [
    "- Ecrire une fonction qui compte le nombre d'éléments manquants d'un objet Series.\n",
    "- Utiliser la méthode DataFrame.apply() pour appliquer votre fonction sur titanic_survival.\n",
    "- Assigner le résultat  à la variable column_null_count.\n",
    "- Afficher le résultat."
   ]
  },
  {
   "cell_type": "code",
   "execution_count": 26,
   "metadata": {},
   "outputs": [],
   "source": [
    "def null_count(column):\n",
    "    column_null = pd.isnull(column)\n",
    "    null = column[column_null]\n",
    "    return len(null)"
   ]
  },
  {
   "cell_type": "code",
   "execution_count": 34,
   "metadata": {},
   "outputs": [
    {
     "name": "stdout",
     "output_type": "stream",
     "text": [
      "pclass          1\n",
      "survived        1\n",
      "name            1\n",
      "sex             1\n",
      "age           264\n",
      "sibsp           1\n",
      "parch           1\n",
      "ticket          1\n",
      "fare            2\n",
      "cabin        1015\n",
      "embarked        3\n",
      "boat          824\n",
      "body         1189\n",
      "home.dest     565\n",
      "dtype: int64\n"
     ]
    }
   ],
   "source": [
    "column_null_count = titanic_survival.apply(null_count)\n",
    "print(column_null_count)"
   ]
  },
  {
   "cell_type": "markdown",
   "metadata": {},
   "source": [
    "## Appliquer une fonction à une ligne"
   ]
  },
  {
   "cell_type": "markdown",
   "metadata": {},
   "source": [
    "- Créer une fonction qui retourne la chaine de caractères \"minor\" pour quelqu'un de moins de 18 ans, \"adult\" si son age est supérieur ou égal à 18 et \"unknown\" si la valeur est manquante.\n",
    "- utiliser cette fonction avec la méthode apply() pour trouver l'intitulé correct pour chaque pssager du dataframe titanic_survival. Ajouter l'option axis=1.\n",
    "- Assigner le résultat à la variable age_labels.\n",
    "- Afficher le résultat."
   ]
  },
  {
   "cell_type": "code",
   "execution_count": 36,
   "metadata": {},
   "outputs": [],
   "source": [
    "def generate_age_label(row):\n",
    "    age = row[\"age\"]\n",
    "    \n",
    "    if pd.isnull(age):\n",
    "        return \"Unknown\"\n",
    "    elif age < 18:\n",
    "        return \"minor\"\n",
    "    else:\n",
    "        return \"adult\""
   ]
  },
  {
   "cell_type": "code",
   "execution_count": 37,
   "metadata": {},
   "outputs": [
    {
     "name": "stdout",
     "output_type": "stream",
     "text": [
      "<class 'pandas.core.series.Series'>\n"
     ]
    }
   ],
   "source": [
    "age_labels = titanic_survival.apply(generate_age_label, axis=1)\n",
    "print(type(age_labels))"
   ]
  },
  {
   "cell_type": "markdown",
   "metadata": {},
   "source": [
    "## Pratique: Calculer le pourcentage de survie par groupe d'âge"
   ]
  },
  {
   "cell_type": "markdown",
   "metadata": {},
   "source": [
    "- Ajouter la colonne \"age_labels\" au dataframe titanic_survival contenant la variable age_labels qu'on a créé précédement.\n",
    "- Créer une table pivot qui calcule la moyenne de chance de survie (colonne \"survived\") pour chaque groupe d'âge (colonne \"age_labels\") du dataframe titanic_survival.\n",
    "- Assigner l'objet Series résultant à la variable age_group_survival.\n",
    "- Afficher le résultat."
   ]
  },
  {
   "cell_type": "code",
   "execution_count": 38,
   "metadata": {},
   "outputs": [
    {
     "name": "stdout",
     "output_type": "stream",
     "text": [
      "            survived\n",
      "age_labels          \n",
      "Unknown     0.277567\n",
      "adult       0.387892\n",
      "minor       0.525974\n"
     ]
    }
   ],
   "source": [
    "titanic_survival[\"age_labels\"] = age_labels\n",
    "\n",
    "age_group_survival = titanic_survival.pivot_table(index=\"age_labels\", values=\"survived\")\n",
    "\n",
    "print(age_group_survival)"
   ]
  },
  {
   "cell_type": "code",
   "execution_count": null,
   "metadata": {},
   "outputs": [],
   "source": []
  }
 ],
 "metadata": {
  "kernelspec": {
   "display_name": "Python 3",
   "language": "python",
   "name": "python3"
  },
  "language_info": {
   "codemirror_mode": {
    "name": "ipython",
    "version": 3
   },
   "file_extension": ".py",
   "mimetype": "text/x-python",
   "name": "python",
   "nbconvert_exporter": "python",
   "pygments_lexer": "ipython3",
   "version": "3.8.3"
  }
 },
 "nbformat": 4,
 "nbformat_minor": 2
}
