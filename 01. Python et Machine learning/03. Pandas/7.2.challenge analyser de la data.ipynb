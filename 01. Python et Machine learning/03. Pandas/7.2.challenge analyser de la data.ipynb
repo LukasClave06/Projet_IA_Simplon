{
 "cells": [
  {
   "cell_type": "markdown",
   "metadata": {},
   "source": [
    "# Challenge"
   ]
  },
  {
   "cell_type": "markdown",
   "metadata": {},
   "source": [
    "## Introduction au dataset"
   ]
  },
  {
   "cell_type": "markdown",
   "metadata": {},
   "source": [
    "- Lire all-ages.csv dans un DataFrame et l'assigner à la variable all_ages.\n",
    "- Lire recent-grads.csv dans un DataFrame et l'assigner à la variable recent_grads.\n",
    "- Afficher les 5 premières lignes de all_ages et recent_grads."
   ]
  },
  {
   "cell_type": "code",
   "execution_count": 29,
   "metadata": {},
   "outputs": [],
   "source": [
    "import pandas as pd\n",
    "\n",
    "all_ages = pd.read_csv(\"Jeux_de_donnees/all-ages.csv\")\n",
    "recent_grads = pd.read_csv(\"Jeux_de_donnees/recent-grads.csv\")"
   ]
  },
  {
   "cell_type": "code",
   "execution_count": 17,
   "metadata": {},
   "outputs": [
    {
     "data": {
      "text/html": [
       "<div>\n",
       "<style scoped>\n",
       "    .dataframe tbody tr th:only-of-type {\n",
       "        vertical-align: middle;\n",
       "    }\n",
       "\n",
       "    .dataframe tbody tr th {\n",
       "        vertical-align: top;\n",
       "    }\n",
       "\n",
       "    .dataframe thead th {\n",
       "        text-align: right;\n",
       "    }\n",
       "</style>\n",
       "<table border=\"1\" class=\"dataframe\">\n",
       "  <thead>\n",
       "    <tr style=\"text-align: right;\">\n",
       "      <th></th>\n",
       "      <th>Major_code</th>\n",
       "      <th>Major</th>\n",
       "      <th>Major_category</th>\n",
       "      <th>Total</th>\n",
       "      <th>Employed</th>\n",
       "      <th>Employed_full_time_year_round</th>\n",
       "      <th>Unemployed</th>\n",
       "      <th>Unemployment_rate</th>\n",
       "      <th>Median</th>\n",
       "      <th>P25th</th>\n",
       "      <th>P75th</th>\n",
       "    </tr>\n",
       "  </thead>\n",
       "  <tbody>\n",
       "    <tr>\n",
       "      <th>0</th>\n",
       "      <td>1100</td>\n",
       "      <td>GENERAL AGRICULTURE</td>\n",
       "      <td>Agriculture &amp; Natural Resources</td>\n",
       "      <td>128148</td>\n",
       "      <td>90245</td>\n",
       "      <td>74078</td>\n",
       "      <td>2423.0</td>\n",
       "      <td>0.026147</td>\n",
       "      <td>50000</td>\n",
       "      <td>34000</td>\n",
       "      <td>80000.0</td>\n",
       "    </tr>\n",
       "    <tr>\n",
       "      <th>1</th>\n",
       "      <td>1101</td>\n",
       "      <td>AGRICULTURE PRODUCTION AND MANAGEMENT</td>\n",
       "      <td>Agriculture &amp; Natural Resources</td>\n",
       "      <td>95326</td>\n",
       "      <td>76865</td>\n",
       "      <td>64240</td>\n",
       "      <td>2266.0</td>\n",
       "      <td>0.028636</td>\n",
       "      <td>54000</td>\n",
       "      <td>36000</td>\n",
       "      <td>80000.0</td>\n",
       "    </tr>\n",
       "    <tr>\n",
       "      <th>2</th>\n",
       "      <td>1102</td>\n",
       "      <td>AGRICULTURAL ECONOMICS</td>\n",
       "      <td>Agriculture &amp; Natural Resources</td>\n",
       "      <td>33955</td>\n",
       "      <td>26321</td>\n",
       "      <td>22810</td>\n",
       "      <td>821.0</td>\n",
       "      <td>0.030248</td>\n",
       "      <td>63000</td>\n",
       "      <td>40000</td>\n",
       "      <td>98000.0</td>\n",
       "    </tr>\n",
       "    <tr>\n",
       "      <th>3</th>\n",
       "      <td>1103</td>\n",
       "      <td>ANIMAL SCIENCES</td>\n",
       "      <td>Agriculture &amp; Natural Resources</td>\n",
       "      <td>103549</td>\n",
       "      <td>81177</td>\n",
       "      <td>64937</td>\n",
       "      <td>3619.0</td>\n",
       "      <td>0.042679</td>\n",
       "      <td>46000</td>\n",
       "      <td>30000</td>\n",
       "      <td>72000.0</td>\n",
       "    </tr>\n",
       "    <tr>\n",
       "      <th>4</th>\n",
       "      <td>1104</td>\n",
       "      <td>FOOD SCIENCE</td>\n",
       "      <td>Agriculture &amp; Natural Resources</td>\n",
       "      <td>24280</td>\n",
       "      <td>17281</td>\n",
       "      <td>12722</td>\n",
       "      <td>894.0</td>\n",
       "      <td>0.049188</td>\n",
       "      <td>62000</td>\n",
       "      <td>38500</td>\n",
       "      <td>90000.0</td>\n",
       "    </tr>\n",
       "  </tbody>\n",
       "</table>\n",
       "</div>"
      ],
      "text/plain": [
       "   Major_code                                  Major  \\\n",
       "0        1100                    GENERAL AGRICULTURE   \n",
       "1        1101  AGRICULTURE PRODUCTION AND MANAGEMENT   \n",
       "2        1102                 AGRICULTURAL ECONOMICS   \n",
       "3        1103                        ANIMAL SCIENCES   \n",
       "4        1104                           FOOD SCIENCE   \n",
       "\n",
       "                    Major_category   Total  Employed  \\\n",
       "0  Agriculture & Natural Resources  128148     90245   \n",
       "1  Agriculture & Natural Resources   95326     76865   \n",
       "2  Agriculture & Natural Resources   33955     26321   \n",
       "3  Agriculture & Natural Resources  103549     81177   \n",
       "4  Agriculture & Natural Resources   24280     17281   \n",
       "\n",
       "   Employed_full_time_year_round  Unemployed  Unemployment_rate  Median  \\\n",
       "0                          74078      2423.0           0.026147   50000   \n",
       "1                          64240      2266.0           0.028636   54000   \n",
       "2                          22810       821.0           0.030248   63000   \n",
       "3                          64937      3619.0           0.042679   46000   \n",
       "4                          12722       894.0           0.049188   62000   \n",
       "\n",
       "   P25th    P75th  \n",
       "0  34000  80000.0  \n",
       "1  36000  80000.0  \n",
       "2  40000  98000.0  \n",
       "3  30000  72000.0  \n",
       "4  38500  90000.0  "
      ]
     },
     "execution_count": 17,
     "metadata": {},
     "output_type": "execute_result"
    }
   ],
   "source": [
    "all_ages.head()"
   ]
  },
  {
   "cell_type": "code",
   "execution_count": 18,
   "metadata": {},
   "outputs": [
    {
     "data": {
      "text/html": [
       "<div>\n",
       "<style scoped>\n",
       "    .dataframe tbody tr th:only-of-type {\n",
       "        vertical-align: middle;\n",
       "    }\n",
       "\n",
       "    .dataframe tbody tr th {\n",
       "        vertical-align: top;\n",
       "    }\n",
       "\n",
       "    .dataframe thead th {\n",
       "        text-align: right;\n",
       "    }\n",
       "</style>\n",
       "<table border=\"1\" class=\"dataframe\">\n",
       "  <thead>\n",
       "    <tr style=\"text-align: right;\">\n",
       "      <th></th>\n",
       "      <th>Rank</th>\n",
       "      <th>Major_code</th>\n",
       "      <th>Major</th>\n",
       "      <th>Major_category</th>\n",
       "      <th>Total</th>\n",
       "      <th>Sample_size</th>\n",
       "      <th>Men</th>\n",
       "      <th>Women</th>\n",
       "      <th>ShareWomen</th>\n",
       "      <th>Employed</th>\n",
       "      <th>...</th>\n",
       "      <th>Part_time</th>\n",
       "      <th>Full_time_year_round</th>\n",
       "      <th>Unemployed</th>\n",
       "      <th>Unemployment_rate</th>\n",
       "      <th>Median</th>\n",
       "      <th>P25th</th>\n",
       "      <th>P75th</th>\n",
       "      <th>College_jobs</th>\n",
       "      <th>Non_college_jobs</th>\n",
       "      <th>Low_wage_jobs</th>\n",
       "    </tr>\n",
       "  </thead>\n",
       "  <tbody>\n",
       "    <tr>\n",
       "      <th>0</th>\n",
       "      <td>1</td>\n",
       "      <td>2419</td>\n",
       "      <td>PETROLEUM ENGINEERING</td>\n",
       "      <td>Engineering</td>\n",
       "      <td>2339</td>\n",
       "      <td>36</td>\n",
       "      <td>2057</td>\n",
       "      <td>282</td>\n",
       "      <td>0.120564</td>\n",
       "      <td>1976</td>\n",
       "      <td>...</td>\n",
       "      <td>270</td>\n",
       "      <td>1207</td>\n",
       "      <td>37</td>\n",
       "      <td>0.018381</td>\n",
       "      <td>110000</td>\n",
       "      <td>95000</td>\n",
       "      <td>125000</td>\n",
       "      <td>1534</td>\n",
       "      <td>364</td>\n",
       "      <td>193</td>\n",
       "    </tr>\n",
       "    <tr>\n",
       "      <th>1</th>\n",
       "      <td>2</td>\n",
       "      <td>2416</td>\n",
       "      <td>MINING AND MINERAL ENGINEERING</td>\n",
       "      <td>Engineering</td>\n",
       "      <td>756</td>\n",
       "      <td>7</td>\n",
       "      <td>679</td>\n",
       "      <td>77</td>\n",
       "      <td>0.101852</td>\n",
       "      <td>640</td>\n",
       "      <td>...</td>\n",
       "      <td>170</td>\n",
       "      <td>388</td>\n",
       "      <td>85</td>\n",
       "      <td>0.117241</td>\n",
       "      <td>75000</td>\n",
       "      <td>55000</td>\n",
       "      <td>90000</td>\n",
       "      <td>350</td>\n",
       "      <td>257</td>\n",
       "      <td>50</td>\n",
       "    </tr>\n",
       "    <tr>\n",
       "      <th>2</th>\n",
       "      <td>3</td>\n",
       "      <td>2415</td>\n",
       "      <td>METALLURGICAL ENGINEERING</td>\n",
       "      <td>Engineering</td>\n",
       "      <td>856</td>\n",
       "      <td>3</td>\n",
       "      <td>725</td>\n",
       "      <td>131</td>\n",
       "      <td>0.153037</td>\n",
       "      <td>648</td>\n",
       "      <td>...</td>\n",
       "      <td>133</td>\n",
       "      <td>340</td>\n",
       "      <td>16</td>\n",
       "      <td>0.024096</td>\n",
       "      <td>73000</td>\n",
       "      <td>50000</td>\n",
       "      <td>105000</td>\n",
       "      <td>456</td>\n",
       "      <td>176</td>\n",
       "      <td>0</td>\n",
       "    </tr>\n",
       "    <tr>\n",
       "      <th>3</th>\n",
       "      <td>4</td>\n",
       "      <td>2417</td>\n",
       "      <td>NAVAL ARCHITECTURE AND MARINE ENGINEERING</td>\n",
       "      <td>Engineering</td>\n",
       "      <td>1258</td>\n",
       "      <td>16</td>\n",
       "      <td>1123</td>\n",
       "      <td>135</td>\n",
       "      <td>0.107313</td>\n",
       "      <td>758</td>\n",
       "      <td>...</td>\n",
       "      <td>150</td>\n",
       "      <td>692</td>\n",
       "      <td>40</td>\n",
       "      <td>0.050125</td>\n",
       "      <td>70000</td>\n",
       "      <td>43000</td>\n",
       "      <td>80000</td>\n",
       "      <td>529</td>\n",
       "      <td>102</td>\n",
       "      <td>0</td>\n",
       "    </tr>\n",
       "    <tr>\n",
       "      <th>4</th>\n",
       "      <td>5</td>\n",
       "      <td>2405</td>\n",
       "      <td>CHEMICAL ENGINEERING</td>\n",
       "      <td>Engineering</td>\n",
       "      <td>32260</td>\n",
       "      <td>289</td>\n",
       "      <td>21239</td>\n",
       "      <td>11021</td>\n",
       "      <td>0.341631</td>\n",
       "      <td>25694</td>\n",
       "      <td>...</td>\n",
       "      <td>5180</td>\n",
       "      <td>16697</td>\n",
       "      <td>1672</td>\n",
       "      <td>0.061098</td>\n",
       "      <td>65000</td>\n",
       "      <td>50000</td>\n",
       "      <td>75000</td>\n",
       "      <td>18314</td>\n",
       "      <td>4440</td>\n",
       "      <td>972</td>\n",
       "    </tr>\n",
       "  </tbody>\n",
       "</table>\n",
       "<p>5 rows × 21 columns</p>\n",
       "</div>"
      ],
      "text/plain": [
       "   Rank  Major_code                                      Major Major_category  \\\n",
       "0     1        2419                      PETROLEUM ENGINEERING    Engineering   \n",
       "1     2        2416             MINING AND MINERAL ENGINEERING    Engineering   \n",
       "2     3        2415                  METALLURGICAL ENGINEERING    Engineering   \n",
       "3     4        2417  NAVAL ARCHITECTURE AND MARINE ENGINEERING    Engineering   \n",
       "4     5        2405                       CHEMICAL ENGINEERING    Engineering   \n",
       "\n",
       "   Total  Sample_size    Men  Women  ShareWomen  Employed  ...  Part_time  \\\n",
       "0   2339           36   2057    282    0.120564      1976  ...        270   \n",
       "1    756            7    679     77    0.101852       640  ...        170   \n",
       "2    856            3    725    131    0.153037       648  ...        133   \n",
       "3   1258           16   1123    135    0.107313       758  ...        150   \n",
       "4  32260          289  21239  11021    0.341631     25694  ...       5180   \n",
       "\n",
       "   Full_time_year_round  Unemployed  Unemployment_rate  Median  P25th   P75th  \\\n",
       "0                  1207          37           0.018381  110000  95000  125000   \n",
       "1                   388          85           0.117241   75000  55000   90000   \n",
       "2                   340          16           0.024096   73000  50000  105000   \n",
       "3                   692          40           0.050125   70000  43000   80000   \n",
       "4                 16697        1672           0.061098   65000  50000   75000   \n",
       "\n",
       "   College_jobs  Non_college_jobs  Low_wage_jobs  \n",
       "0          1534               364            193  \n",
       "1           350               257             50  \n",
       "2           456               176              0  \n",
       "3           529               102              0  \n",
       "4         18314              4440            972  \n",
       "\n",
       "[5 rows x 21 columns]"
      ]
     },
     "execution_count": 18,
     "metadata": {},
     "output_type": "execute_result"
    }
   ],
   "source": [
    "recent_grads.head()"
   ]
  },
  {
   "cell_type": "markdown",
   "metadata": {},
   "source": [
    "## Nombre d'étudiants par catégorie de Major"
   ]
  },
  {
   "cell_type": "markdown",
   "metadata": {},
   "source": [
    "- Retourner les valeurs uniques de Major_category.\n",
    ">- Utiliser la méthode Series.unique() pour retourner les valeurs uniques d'une Series."
   ]
  },
  {
   "cell_type": "code",
   "execution_count": 30,
   "metadata": {},
   "outputs": [
    {
     "data": {
      "text/plain": [
       "array(['Agriculture & Natural Resources', 'Biology & Life Science',\n",
       "       'Engineering', 'Humanities & Liberal Arts',\n",
       "       'Communications & Journalism', 'Computers & Mathematics',\n",
       "       'Industrial Arts & Consumer Services', 'Education',\n",
       "       'Law & Public Policy', 'Interdisciplinary', 'Health',\n",
       "       'Social Science', 'Physical Sciences', ' Physical Sciences',\n",
       "       'Psychology & Social Work', '92346', '15726', 'Arts', 'Business'],\n",
       "      dtype=object)"
      ]
     },
     "execution_count": 30,
     "metadata": {},
     "output_type": "execute_result"
    }
   ],
   "source": [
    "all_ages[\"Major_category\"].unique()"
   ]
  },
  {
   "cell_type": "code",
   "execution_count": 43,
   "metadata": {},
   "outputs": [
    {
     "name": "stdout",
     "output_type": "stream",
     "text": [
      "['GENERAL AGRICULTURE' 'AGRICULTURE PRODUCTION AND MANAGEMENT'\n",
      " 'AGRICULTURAL ECONOMICS' 'ANIMAL SCIENCES' 'FOOD SCIENCE'\n",
      " 'PLANT SCIENCE AND AGRONOMY' 'SOIL SCIENCE' 'MISCELLANEOUS AGRICULTURE'\n",
      " 'ENVIRONMENTAL SCIENCE' 'FORESTRY' 'NATURAL RESOURCES MANAGEMENT'\n",
      " 'ARCHITECTURE' 'AREA ETHNIC AND CIVILIZATION STUDIES' 'COMMUNICATIONS'\n",
      " 'JOURNALISM' 'MASS MEDIA' 'ADVERTISING AND PUBLIC RELATIONS'\n",
      " 'COMMUNICATION TECHNOLOGIES' 'COMPUTER AND INFORMATION SYSTEMS'\n",
      " 'COMPUTER PROGRAMMING AND DATA PROCESSING' 'COMPUTER SCIENCE'\n",
      " 'INFORMATION SCIENCES' 'COMPUTER ADMINISTRATION MANAGEMENT AND SECURITY'\n",
      " 'COMPUTER NETWORKING AND TELECOMMUNICATIONS'\n",
      " 'COSMETOLOGY SERVICES AND CULINARY ARTS' 'GENERAL EDUCATION'\n",
      " 'EDUCATIONAL ADMINISTRATION AND SUPERVISION' 'SCHOOL STUDENT COUNSELING'\n",
      " 'ELEMENTARY EDUCATION' 'MATHEMATICS TEACHER EDUCATION'\n",
      " 'PHYSICAL AND HEALTH EDUCATION TEACHING' 'EARLY CHILDHOOD EDUCATION'\n",
      " 'SCIENCE AND COMPUTER TEACHER EDUCATION' 'SECONDARY TEACHER EDUCATION'\n",
      " 'SPECIAL NEEDS EDUCATION' 'SOCIAL SCIENCE OR HISTORY TEACHER EDUCATION'\n",
      " 'TEACHER EDUCATION: MULTIPLE LEVELS' 'LANGUAGE AND DRAMA EDUCATION'\n",
      " 'ART AND MUSIC EDUCATION' 'MISCELLANEOUS EDUCATION' 'GENERAL ENGINEERING'\n",
      " 'AEROSPACE ENGINEERING' 'BIOLOGICAL ENGINEERING'\n",
      " 'ARCHITECTURAL ENGINEERING' 'BIOMEDICAL ENGINEERING'\n",
      " 'CHEMICAL ENGINEERING' 'CIVIL ENGINEERING' 'COMPUTER ENGINEERING'\n",
      " 'ELECTRICAL ENGINEERING' 'ENGINEERING MECHANICS PHYSICS AND SCIENCE'\n",
      " 'ENVIRONMENTAL ENGINEERING' 'GEOLOGICAL AND GEOPHYSICAL ENGINEERING'\n",
      " 'INDUSTRIAL AND MANUFACTURING ENGINEERING'\n",
      " 'MATERIALS ENGINEERING AND MATERIALS SCIENCE' 'MECHANICAL ENGINEERING'\n",
      " 'METALLURGICAL ENGINEERING' 'MINING AND MINERAL ENGINEERING'\n",
      " 'NAVAL ARCHITECTURE AND MARINE ENGINEERING' 'NUCLEAR ENGINEERING'\n",
      " 'PETROLEUM ENGINEERING' 'MISCELLANEOUS ENGINEERING'\n",
      " 'ENGINEERING TECHNOLOGIES' 'ENGINEERING AND INDUSTRIAL MANAGEMENT'\n",
      " 'ELECTRICAL ENGINEERING TECHNOLOGY' 'INDUSTRIAL PRODUCTION TECHNOLOGIES'\n",
      " 'MECHANICAL ENGINEERING RELATED TECHNOLOGIES'\n",
      " 'MISCELLANEOUS ENGINEERING TECHNOLOGIES'\n",
      " 'LINGUISTICS AND COMPARATIVE LANGUAGE AND LITERATURE'\n",
      " 'FRENCH GERMAN LATIN AND OTHER COMMON FOREIGN LANGUAGE STUDIES'\n",
      " 'OTHER FOREIGN LANGUAGES' 'FAMILY AND CONSUMER SCIENCES'\n",
      " 'COURT REPORTING' 'PRE-LAW AND LEGAL STUDIES'\n",
      " 'ENGLISH LANGUAGE AND LITERATURE' 'COMPOSITION AND RHETORIC'\n",
      " 'LIBERAL ARTS' 'HUMANITIES' 'LIBRARY SCIENCE' 'BIOLOGY'\n",
      " 'BIOCHEMICAL SCIENCES' 'BOTANY' 'MOLECULAR BIOLOGY' 'ECOLOGY' 'GENETICS'\n",
      " 'MICROBIOLOGY' 'PHARMACOLOGY' 'PHYSIOLOGY' 'ZOOLOGY' 'NEUROSCIENCE'\n",
      " 'MISCELLANEOUS BIOLOGY' 'MATHEMATICS' 'APPLIED MATHEMATICS'\n",
      " 'STATISTICS AND DECISION SCIENCE' 'MILITARY TECHNOLOGIES'\n",
      " 'MULTI/INTERDISCIPLINARY STUDIES'\n",
      " 'INTERCULTURAL AND INTERNATIONAL STUDIES' 'NUTRITION SCIENCES'\n",
      " 'MATHEMATICS AND COMPUTER SCIENCE' 'COGNITIVE SCIENCE AND BIOPSYCHOLOGY'\n",
      " 'INTERDISCIPLINARY SOCIAL SCIENCES'\n",
      " 'PHYSICAL FITNESS PARKS RECREATION AND LEISURE'\n",
      " 'PHILOSOPHY AND RELIGIOUS STUDIES' 'THEOLOGY AND RELIGIOUS VOCATIONS'\n",
      " 'PHYSICAL SCIENCES' 'ASTRONOMY AND ASTROPHYSICS'\n",
      " 'ATMOSPHERIC SCIENCES AND METEOROLOGY' 'CHEMISTRY'\n",
      " 'GEOLOGY AND EARTH SCIENCE' 'GEOSCIENCES' 'OCEANOGRAPHY' 'PHYSICS'\n",
      " 'MATERIALS SCIENCE' 'MULTI-DISCIPLINARY OR GENERAL SCIENCE' 'NUCLEAR'\n",
      " 'PSYCHOLOGY' 'EDUCATIONAL PSYCHOLOGY' 'CLINICAL PSYCHOLOGY'\n",
      " 'COUNSELING PSYCHOLOGY' 'INDUSTRIAL AND ORGANIZATIONAL PSYCHOLOGY'\n",
      " 'SOCIAL PSYCHOLOGY' 'MISCELLANEOUS PSYCHOLOGY'\n",
      " 'CRIMINAL JUSTICE AND FIRE PROTECTION' 'PUBLIC ADMINISTRATION'\n",
      " 'PUBLIC POLICY' 'HUMAN SERVICES AND COMMUNITY ORGANIZATION' 'SOCIAL WORK'\n",
      " 'GENERAL SOCIAL SCIENCES' 'ECONOMICS' 'ANTHROPOLOGY AND ARCHEOLOGY'\n",
      " 'CRIMINOLOGY' 'GEOGRAPHY' 'INTERNATIONAL RELATIONS'\n",
      " 'POLITICAL SCIENCE AND GOVERNMENT' 'SOCIOLOGY'\n",
      " 'MISCELLANEOUS SOCIAL SCIENCES' 'Industrial Arts & Consumer Services'\n",
      " 'TRANSPORTATION SCIENCES AND TECHNOLOGIES' 'FINE ARTS'\n",
      " 'DRAMA AND THEATER ARTS' 'MUSIC' 'VISUAL AND PERFORMING ARTS'\n",
      " 'COMMERCIAL ART AND GRAPHIC DESIGN' 'FILM VIDEO AND PHOTOGRAPHIC ARTS'\n",
      " 'ART HISTORY AND CRITICISM' 'STUDIO ARTS' 'MISCELLANEOUS FINE ARTS'\n",
      " 'GENERAL MEDICAL AND HEALTH SERVICES'\n",
      " 'COMMUNICATION DISORDERS SCIENCES AND SERVICES'\n",
      " 'HEALTH AND MEDICAL ADMINISTRATIVE SERVICES' 'MEDICAL ASSISTING SERVICES'\n",
      " 'MEDICAL TECHNOLOGIES TECHNICIANS'\n",
      " 'HEALTH AND MEDICAL PREPARATORY PROGRAMS' 'NURSING'\n",
      " 'PHARMACY PHARMACEUTICAL SCIENCES AND ADMINISTRATION'\n",
      " 'TREATMENT THERAPY PROFESSIONS' 'COMMUNITY AND PUBLIC HEALTH'\n",
      " 'MISCELLANEOUS HEALTH MEDICAL PROFESSIONS' 'GENERAL BUSINESS'\n",
      " 'ACCOUNTING' 'ACTUARIAL SCIENCE' 'BUSINESS MANAGEMENT AND ADMINISTRATION'\n",
      " 'OPERATIONS LOGISTICS AND E-COMMERCE' 'BUSINESS ECONOMICS'\n",
      " 'MARKETING AND MARKETING RESEARCH' 'FINANCE'\n",
      " 'HUMAN RESOURCES AND PERSONNEL MANAGEMENT' 'INTERNATIONAL BUSINESS'\n",
      " 'HOSPITALITY MANAGEMENT' 'MANAGEMENT INFORMATION SYSTEMS AND STATISTICS'\n",
      " 'MISCELLANEOUS BUSINESS & MEDICAL ADMINISTRATION' 'HISTORY'\n",
      " 'UNITED STATES HISTORY']\n",
      "\n",
      "['PETROLEUM ENGINEERING' 'MINING AND MINERAL ENGINEERING'\n",
      " 'METALLURGICAL ENGINEERING' 'NAVAL ARCHITECTURE AND MARINE ENGINEERING'\n",
      " 'CHEMICAL ENGINEERING' 'NUCLEAR ENGINEERING' 'ACTUARIAL SCIENCE'\n",
      " 'ASTRONOMY AND ASTROPHYSICS' 'MECHANICAL ENGINEERING'\n",
      " 'ELECTRICAL ENGINEERING' 'COMPUTER ENGINEERING' 'AEROSPACE ENGINEERING'\n",
      " 'BIOMEDICAL ENGINEERING' 'MATERIALS SCIENCE'\n",
      " 'ENGINEERING MECHANICS PHYSICS AND SCIENCE' 'BIOLOGICAL ENGINEERING'\n",
      " 'INDUSTRIAL AND MANUFACTURING ENGINEERING' 'GENERAL ENGINEERING'\n",
      " 'ARCHITECTURAL ENGINEERING' 'COURT REPORTING' 'COMPUTER SCIENCE'\n",
      " 'FOOD SCIENCE' 'ELECTRICAL ENGINEERING TECHNOLOGY'\n",
      " 'MATERIALS ENGINEERING AND MATERIALS SCIENCE'\n",
      " 'MANAGEMENT INFORMATION SYSTEMS AND STATISTICS' 'CIVIL ENGINEERING'\n",
      " 'CONSTRUCTION SERVICES' 'OPERATIONS LOGISTICS AND E-COMMERCE'\n",
      " 'MISCELLANEOUS ENGINEERING' 'PUBLIC POLICY' 'ENVIRONMENTAL ENGINEERING'\n",
      " 'ENGINEERING TECHNOLOGIES' 'MISCELLANEOUS FINE ARTS'\n",
      " 'GEOLOGICAL AND GEOPHYSICAL ENGINEERING' 'NURSING' 'FINANCE' 'ECONOMICS'\n",
      " 'BUSINESS ECONOMICS' 'INDUSTRIAL PRODUCTION TECHNOLOGIES' 'NUCLEAR'\n",
      " 'ACCOUNTING' 'MATHEMATICS' 'COMPUTER AND INFORMATION SYSTEMS' 'PHYSICS'\n",
      " 'MEDICAL TECHNOLOGIES TECHNICIANS' 'INFORMATION SCIENCES'\n",
      " 'STATISTICS AND DECISION SCIENCE' 'APPLIED MATHEMATICS' 'PHARMACOLOGY'\n",
      " 'OCEANOGRAPHY' 'ENGINEERING AND INDUSTRIAL MANAGEMENT'\n",
      " 'MEDICAL ASSISTING SERVICES' 'MATHEMATICS AND COMPUTER SCIENCE'\n",
      " 'COMPUTER PROGRAMMING AND DATA PROCESSING'\n",
      " 'COGNITIVE SCIENCE AND BIOPSYCHOLOGY' 'SCHOOL STUDENT COUNSELING'\n",
      " 'INTERNATIONAL RELATIONS' 'GENERAL BUSINESS' 'ARCHITECTURE'\n",
      " 'INTERNATIONAL BUSINESS'\n",
      " 'PHARMACY PHARMACEUTICAL SCIENCES AND ADMINISTRATION' 'MOLECULAR BIOLOGY'\n",
      " 'MISCELLANEOUS BUSINESS & MEDICAL ADMINISTRATION'\n",
      " 'AGRICULTURE PRODUCTION AND MANAGEMENT' 'GENERAL AGRICULTURE'\n",
      " 'MISCELLANEOUS ENGINEERING TECHNOLOGIES'\n",
      " 'MECHANICAL ENGINEERING RELATED TECHNOLOGIES' 'GENETICS'\n",
      " 'MISCELLANEOUS SOCIAL SCIENCES' 'UNITED STATES HISTORY'\n",
      " 'INDUSTRIAL AND ORGANIZATIONAL PSYCHOLOGY' 'AGRICULTURAL ECONOMICS'\n",
      " 'PHYSICAL SCIENCES' 'MILITARY TECHNOLOGIES' 'CHEMISTRY' 'ELECTRICAL'\n",
      " 'BUSINESS MANAGEMENT AND ADMINISTRATION'\n",
      " 'MARKETING AND MARKETING RESEARCH' 'POLITICAL SCIENCE AND GOVERNMENT'\n",
      " 'GEOGRAPHY' 'MICROBIOLOGY'\n",
      " 'COMPUTER ADMINISTRATION MANAGEMENT AND SECURITY' 'BIOCHEMICAL SCIENCES'\n",
      " 'BOTANY' 'COMPUTER NETWORKING AND TELECOMMUNICATIONS'\n",
      " 'GEOLOGY AND EARTH SCIENCE' 'HUMAN RESOURCES AND PERSONNEL MANAGEMENT'\n",
      " 'PRE-LAW AND LEGAL STUDIES' 'MISCELLANEOUS HEALTH MEDICAL PROFESSIONS'\n",
      " 'PUBLIC ADMINISTRATION' 'GEOSCIENCES' 'SOCIAL PSYCHOLOGY'\n",
      " 'ENVIRONMENTAL SCIENCE' 'COMMUNICATIONS'\n",
      " 'CRIMINAL JUSTICE AND FIRE PROTECTION'\n",
      " 'COMMERCIAL ART AND GRAPHIC DESIGN' 'JOURNALISM'\n",
      " 'MULTI-DISCIPLINARY OR GENERAL SCIENCE'\n",
      " 'ADVERTISING AND PUBLIC RELATIONS' 'AREA ETHNIC AND CIVILIZATION STUDIES'\n",
      " 'SPECIAL NEEDS EDUCATION' 'PHYSIOLOGY' 'CRIMINOLOGY' 'NUTRITION SCIENCES'\n",
      " 'HEALTH AND MEDICAL ADMINISTRATIVE SERVICES' 'COMMUNICATION TECHNOLOGIES'\n",
      " 'TRANSPORTATION SCIENCES AND TECHNOLOGIES' 'NATURAL RESOURCES MANAGEMENT'\n",
      " 'NEUROSCIENCE' 'MULTI/INTERDISCIPLINARY STUDIES'\n",
      " 'ATMOSPHERIC SCIENCES AND METEOROLOGY' 'FORESTRY' 'SOIL SCIENCE'\n",
      " 'GENERAL EDUCATION' 'HISTORY'\n",
      " 'FRENCH GERMAN LATIN AND OTHER COMMON FOREIGN LANGUAGE STUDIES'\n",
      " 'INTERCULTURAL AND INTERNATIONAL STUDIES'\n",
      " 'SOCIAL SCIENCE OR HISTORY TEACHER EDUCATION'\n",
      " 'COMMUNITY AND PUBLIC HEALTH' 'MATHEMATICS TEACHER EDUCATION'\n",
      " 'EDUCATIONAL ADMINISTRATION AND SUPERVISION'\n",
      " 'HEALTH AND MEDICAL PREPARATORY PROGRAMS' 'MISCELLANEOUS BIOLOGY'\n",
      " 'BIOLOGY' 'SOCIOLOGY' 'MASS MEDIA' 'TREATMENT THERAPY PROFESSIONS'\n",
      " 'HOSPITALITY MANAGEMENT' 'LANGUAGE AND DRAMA EDUCATION'\n",
      " 'LINGUISTICS AND COMPARATIVE LANGUAGE AND LITERATURE'\n",
      " 'MISCELLANEOUS EDUCATION' 'INTERDISCIPLINARY SOCIAL SCIENCES' 'ECOLOGY'\n",
      " 'SECONDARY TEACHER EDUCATION' 'GENERAL MEDICAL AND HEALTH SERVICES'\n",
      " 'PHILOSOPHY AND RELIGIOUS STUDIES' 'ART AND MUSIC EDUCATION'\n",
      " 'ENGLISH LANGUAGE AND LITERATURE' 'ELEMENTARY EDUCATION'\n",
      " 'PHYSICAL FITNESS PARKS RECREATION AND LEISURE' 'LIBERAL ARTS'\n",
      " 'FILM VIDEO AND PHOTOGRAPHIC ARTS' 'GENERAL SOCIAL SCIENCES'\n",
      " 'PLANT SCIENCE AND AGRONOMY' 'SCIENCE AND COMPUTER TEACHER EDUCATION'\n",
      " 'PSYCHOLOGY' 'MUSIC' 'PHYSICAL AND HEALTH EDUCATION TEACHING'\n",
      " 'ART HISTORY AND CRITICISM' 'FINE ARTS' 'FAMILY AND CONSUMER SCIENCES'\n",
      " 'SOCIAL WORK' 'ANIMAL SCIENCES' 'VISUAL AND PERFORMING ARTS'\n",
      " 'TEACHER EDUCATION: MULTIPLE LEVELS' 'MISCELLANEOUS PSYCHOLOGY'\n",
      " 'HUMAN SERVICES AND COMMUNITY ORGANIZATION' 'HUMANITIES'\n",
      " 'THEOLOGY AND RELIGIOUS VOCATIONS' 'STUDIO ARTS'\n",
      " 'COSMETOLOGY SERVICES AND CULINARY ARTS' 'MISCELLANEOUS AGRICULTURE'\n",
      " 'ANTHROPOLOGY AND ARCHEOLOGY'\n",
      " 'COMMUNICATION DISORDERS SCIENCES AND SERVICES'\n",
      " 'EARLY CHILDHOOD EDUCATION' 'OTHER FOREIGN LANGUAGES'\n",
      " 'DRAMA AND THEATER ARTS' 'COMPOSITION AND RHETORIC' 'ZOOLOGY'\n",
      " 'EDUCATIONAL PSYCHOLOGY' 'CLINICAL PSYCHOLOGY' 'COUNSELING PSYCHOLOGY'\n",
      " 'LIBRARY SCIENCE']\n"
     ]
    }
   ],
   "source": [
    "print(all_ages[\"Major\"].unique())\n",
    "print()\n",
    "print(recent_grads[\"Major\"].unique())"
   ]
  },
  {
   "cell_type": "markdown",
   "metadata": {},
   "source": [
    "- Pour chaque valeur unique (utilisation d'une boucle for?):\n",
    ">- Retourner toutes les lignes où Major_category vaut cette valeur unique.\n",
    ">- Calculer le nombre total d'étudiants représentant cette catégorie de major (colonne Total à sommer).\n",
    ">- Vous garderez en mémoire ce résultat sous la forme d'un dictionnaire contenant une Major_category en clé et le nombre d'étudiants en valeur."
   ]
  },
  {
   "cell_type": "code",
   "execution_count": 31,
   "metadata": {},
   "outputs": [
    {
     "data": {
      "text/plain": [
       "6776015"
      ]
     },
     "execution_count": 31,
     "metadata": {},
     "output_type": "execute_result"
    }
   ],
   "source": [
    "recent_grads[\"Total\"].sum()"
   ]
  },
  {
   "cell_type": "markdown",
   "metadata": {},
   "source": [
    "#### Mission:\n",
    "- Créer une fonction dans laquelle vous utiliserez la colonne Total pour calculer le nombre d'étudiants pour chaque catégorie de Major (Major_category) dans chaque dataset.\n",
    ">- Stocker le résultat dans 2 dictionnaires distincts\n",
    ">- La clé pour chaque dictionnaire sera Major_category et la valeur le total d'étudiants\n",
    ">- Pour le dataset all_ages, stocker le résultat dans un dictionnaire qu'on nommera aa_car_counts\n",
    ">- Pour le dataset recent_grads, stocker le résultat dans un dictionnaire qu'on nommera rg_cat_counts\n",
    "- Autre méthode: Utiliser un pivot de table.\n",
    "- Afficher les 2 dictionnaires."
   ]
  },
  {
   "cell_type": "code",
   "execution_count": 92,
   "metadata": {},
   "outputs": [],
   "source": [
    "def calculate_major_cat_totals(df):\n",
    "    cats = df['Major_category'].unique()\n",
    "    counts_dictionary = {}\n",
    "    \n",
    "    for c in cats:\n",
    "        major_df = df[df[\"Major_category\"] == c]\n",
    "        total = major_df[\"Total\"].sum()\n",
    "        counts_dictionary[c] = total\n",
    "    return counts_dictionary"
   ]
  },
  {
   "cell_type": "code",
   "execution_count": 93,
   "metadata": {},
   "outputs": [
    {
     "name": "stdout",
     "output_type": "stream",
     "text": [
      "{'Agriculture & Natural Resources': 632437, 'Biology & Life Science': 1338186, 'Engineering': 3576013, 'Humanities & Liberal Arts': 3738335, 'Communications & Journalism': 1803822, 'Computers & Mathematics': 1781378, 'Industrial Arts & Consumer Services': 925726, 'Education': 4700118, 'Law & Public Policy': 902926, 'Interdisciplinary': 45199, 'Health': 2950859, 'Social Science': 2654125, 'Physical Sciences': 1013152, ' Physical Sciences': 12166, 'Psychology & Social Work': 1987278, '92346': 79055, '15726': 12607, 'Arts': 1805865, 'Business': 9858741}\n"
     ]
    }
   ],
   "source": [
    "aa_cat_counts = calculate_major_cat_totals(all_ages)\n",
    "print(aa_cat_counts)"
   ]
  },
  {
   "cell_type": "code",
   "execution_count": 94,
   "metadata": {},
   "outputs": [
    {
     "name": "stdout",
     "output_type": "stream",
     "text": [
      "{'Engineering': 537583, 'Business': 1302376, 'Physical Sciences': 185479, 'Law & Public Policy': 179107, 'Computers & Mathematics': 299008, 'Agriculture & Natural Resources': 79981, 'Industrial Arts & Consumer Services': 229792, 'Arts': 357130, 'Health': 463230, 'Social Science': 529966, 'Biology & Life Science': 453862, 'Education': 559129, 'Humanities & Liberal Arts': 713468, 'Psychology & Social Work': 481007, 'Communications & Journalism': 392601, 'Interdisciplinary': 12296}\n"
     ]
    }
   ],
   "source": [
    "rg_cat_counts = calculate_major_cat_totals(recent_grads)\n",
    "print(rg_cat_counts)"
   ]
  },
  {
   "cell_type": "code",
   "execution_count": 39,
   "metadata": {},
   "outputs": [],
   "source": [
    "import numpy as np\n",
    "aa_cat_counts = dict(all_ages.pivot_table(index=\"Major_category\", values=\"Total\", aggfunc=np.sum))"
   ]
  },
  {
   "cell_type": "code",
   "execution_count": 40,
   "metadata": {},
   "outputs": [
    {
     "name": "stdout",
     "output_type": "stream",
     "text": [
      "{'Total': Major_category\n",
      " Physical Sciences                       12166\n",
      "15726                                    12607\n",
      "92346                                    79055\n",
      "Agriculture & Natural Resources         632437\n",
      "Arts                                   1805865\n",
      "Biology & Life Science                 1338186\n",
      "Business                               9858741\n",
      "Communications & Journalism            1803822\n",
      "Computers & Mathematics                1781378\n",
      "Education                              4700118\n",
      "Engineering                            3576013\n",
      "Health                                 2950859\n",
      "Humanities & Liberal Arts              3738335\n",
      "Industrial Arts & Consumer Services     925726\n",
      "Interdisciplinary                        45199\n",
      "Law & Public Policy                     902926\n",
      "Physical Sciences                      1013152\n",
      "Psychology & Social Work               1987278\n",
      "Social Science                         2654125\n",
      "Name: Total, dtype: int64}\n"
     ]
    }
   ],
   "source": [
    "print(aa_cat_counts)"
   ]
  },
  {
   "cell_type": "markdown",
   "metadata": {},
   "source": [
    "## Taux de jobs à faible salaire"
   ]
  },
  {
   "cell_type": "markdown",
   "metadata": {},
   "source": [
    "- Utiliser les colonnes \"Low_wage_jobs\" et \"Total\" pour calculer la proportion de jeunes diplômés qui ont du trouver des jobs à faible salaire (recent_grads).\n",
    ">- Souvenez-vous que vous pouvez utiliser la méthode Series.sum() pour retourner la somme des valeurs d'une colonne\n",
    "- Stocker le résultat dans la variable low_wage_proportion et afficher le."
   ]
  },
  {
   "cell_type": "code",
   "execution_count": 26,
   "metadata": {},
   "outputs": [
    {
     "name": "stdout",
     "output_type": "stream",
     "text": [
      "0.09852546076122913\n"
     ]
    }
   ],
   "source": [
    "low_wage_jobs_sum = recent_grads['Low_wage_jobs'].sum()\n",
    "recent_grads_sum = recent_grads['Total'].sum()\n",
    "\n",
    "low_wage_proportion = low_wage_jobs_sum/recent_grads_sum\n",
    "print(low_wage_proportion)"
   ]
  },
  {
   "cell_type": "markdown",
   "metadata": {},
   "source": [
    "## Comparer des datasets"
   ]
  },
  {
   "cell_type": "markdown",
   "metadata": {},
   "source": [
    "- Utiliser une boucle for pour parcourir toutes les majors.\n",
    ">- Pour chaque Major et chaque DataFrame, filtrer seulement les lignes du DataFrame correspondant à cette major\n",
    ">- Comparer les valeurs pour la colonne \"Unemployment_rate\" pour voir lequel des 2 DataFrames possèdent la valeur la plus basse\n",
    ">- Incrémenter (cad ajouter 1) à la variable rg_lower_count si la valeur pour Unemployment_rate est plus petite dans le dataframe recent_grads que dans le dataframe all_ages\n",
    "- Afficher le résultat rg_lower_count."
   ]
  },
  {
   "cell_type": "code",
   "execution_count": 44,
   "metadata": {
    "scrolled": true
   },
   "outputs": [
    {
     "name": "stdout",
     "output_type": "stream",
     "text": [
      "['PETROLEUM ENGINEERING' 'MINING AND MINERAL ENGINEERING'\n",
      " 'METALLURGICAL ENGINEERING' 'NAVAL ARCHITECTURE AND MARINE ENGINEERING'\n",
      " 'CHEMICAL ENGINEERING' 'NUCLEAR ENGINEERING' 'ACTUARIAL SCIENCE'\n",
      " 'ASTRONOMY AND ASTROPHYSICS' 'MECHANICAL ENGINEERING'\n",
      " 'ELECTRICAL ENGINEERING' 'COMPUTER ENGINEERING' 'AEROSPACE ENGINEERING'\n",
      " 'BIOMEDICAL ENGINEERING' 'MATERIALS SCIENCE'\n",
      " 'ENGINEERING MECHANICS PHYSICS AND SCIENCE' 'BIOLOGICAL ENGINEERING'\n",
      " 'INDUSTRIAL AND MANUFACTURING ENGINEERING' 'GENERAL ENGINEERING'\n",
      " 'ARCHITECTURAL ENGINEERING' 'COURT REPORTING' 'COMPUTER SCIENCE'\n",
      " 'FOOD SCIENCE' 'ELECTRICAL ENGINEERING TECHNOLOGY'\n",
      " 'MATERIALS ENGINEERING AND MATERIALS SCIENCE'\n",
      " 'MANAGEMENT INFORMATION SYSTEMS AND STATISTICS' 'CIVIL ENGINEERING'\n",
      " 'CONSTRUCTION SERVICES' 'OPERATIONS LOGISTICS AND E-COMMERCE'\n",
      " 'MISCELLANEOUS ENGINEERING' 'PUBLIC POLICY' 'ENVIRONMENTAL ENGINEERING'\n",
      " 'ENGINEERING TECHNOLOGIES' 'MISCELLANEOUS FINE ARTS'\n",
      " 'GEOLOGICAL AND GEOPHYSICAL ENGINEERING' 'NURSING' 'FINANCE' 'ECONOMICS'\n",
      " 'BUSINESS ECONOMICS' 'INDUSTRIAL PRODUCTION TECHNOLOGIES' 'NUCLEAR'\n",
      " 'ACCOUNTING' 'MATHEMATICS' 'COMPUTER AND INFORMATION SYSTEMS' 'PHYSICS'\n",
      " 'MEDICAL TECHNOLOGIES TECHNICIANS' 'INFORMATION SCIENCES'\n",
      " 'STATISTICS AND DECISION SCIENCE' 'APPLIED MATHEMATICS' 'PHARMACOLOGY'\n",
      " 'OCEANOGRAPHY' 'ENGINEERING AND INDUSTRIAL MANAGEMENT'\n",
      " 'MEDICAL ASSISTING SERVICES' 'MATHEMATICS AND COMPUTER SCIENCE'\n",
      " 'COMPUTER PROGRAMMING AND DATA PROCESSING'\n",
      " 'COGNITIVE SCIENCE AND BIOPSYCHOLOGY' 'SCHOOL STUDENT COUNSELING'\n",
      " 'INTERNATIONAL RELATIONS' 'GENERAL BUSINESS' 'ARCHITECTURE'\n",
      " 'INTERNATIONAL BUSINESS'\n",
      " 'PHARMACY PHARMACEUTICAL SCIENCES AND ADMINISTRATION' 'MOLECULAR BIOLOGY'\n",
      " 'MISCELLANEOUS BUSINESS & MEDICAL ADMINISTRATION'\n",
      " 'AGRICULTURE PRODUCTION AND MANAGEMENT' 'GENERAL AGRICULTURE'\n",
      " 'MISCELLANEOUS ENGINEERING TECHNOLOGIES'\n",
      " 'MECHANICAL ENGINEERING RELATED TECHNOLOGIES' 'GENETICS'\n",
      " 'MISCELLANEOUS SOCIAL SCIENCES' 'UNITED STATES HISTORY'\n",
      " 'INDUSTRIAL AND ORGANIZATIONAL PSYCHOLOGY' 'AGRICULTURAL ECONOMICS'\n",
      " 'PHYSICAL SCIENCES' 'MILITARY TECHNOLOGIES' 'CHEMISTRY' 'ELECTRICAL'\n",
      " 'BUSINESS MANAGEMENT AND ADMINISTRATION'\n",
      " 'MARKETING AND MARKETING RESEARCH' 'POLITICAL SCIENCE AND GOVERNMENT'\n",
      " 'GEOGRAPHY' 'MICROBIOLOGY'\n",
      " 'COMPUTER ADMINISTRATION MANAGEMENT AND SECURITY' 'BIOCHEMICAL SCIENCES'\n",
      " 'BOTANY' 'COMPUTER NETWORKING AND TELECOMMUNICATIONS'\n",
      " 'GEOLOGY AND EARTH SCIENCE' 'HUMAN RESOURCES AND PERSONNEL MANAGEMENT'\n",
      " 'PRE-LAW AND LEGAL STUDIES' 'MISCELLANEOUS HEALTH MEDICAL PROFESSIONS'\n",
      " 'PUBLIC ADMINISTRATION' 'GEOSCIENCES' 'SOCIAL PSYCHOLOGY'\n",
      " 'ENVIRONMENTAL SCIENCE' 'COMMUNICATIONS'\n",
      " 'CRIMINAL JUSTICE AND FIRE PROTECTION'\n",
      " 'COMMERCIAL ART AND GRAPHIC DESIGN' 'JOURNALISM'\n",
      " 'MULTI-DISCIPLINARY OR GENERAL SCIENCE'\n",
      " 'ADVERTISING AND PUBLIC RELATIONS' 'AREA ETHNIC AND CIVILIZATION STUDIES'\n",
      " 'SPECIAL NEEDS EDUCATION' 'PHYSIOLOGY' 'CRIMINOLOGY' 'NUTRITION SCIENCES'\n",
      " 'HEALTH AND MEDICAL ADMINISTRATIVE SERVICES' 'COMMUNICATION TECHNOLOGIES'\n",
      " 'TRANSPORTATION SCIENCES AND TECHNOLOGIES' 'NATURAL RESOURCES MANAGEMENT'\n",
      " 'NEUROSCIENCE' 'MULTI/INTERDISCIPLINARY STUDIES'\n",
      " 'ATMOSPHERIC SCIENCES AND METEOROLOGY' 'FORESTRY' 'SOIL SCIENCE'\n",
      " 'GENERAL EDUCATION' 'HISTORY'\n",
      " 'FRENCH GERMAN LATIN AND OTHER COMMON FOREIGN LANGUAGE STUDIES'\n",
      " 'INTERCULTURAL AND INTERNATIONAL STUDIES'\n",
      " 'SOCIAL SCIENCE OR HISTORY TEACHER EDUCATION'\n",
      " 'COMMUNITY AND PUBLIC HEALTH' 'MATHEMATICS TEACHER EDUCATION'\n",
      " 'EDUCATIONAL ADMINISTRATION AND SUPERVISION'\n",
      " 'HEALTH AND MEDICAL PREPARATORY PROGRAMS' 'MISCELLANEOUS BIOLOGY'\n",
      " 'BIOLOGY' 'SOCIOLOGY' 'MASS MEDIA' 'TREATMENT THERAPY PROFESSIONS'\n",
      " 'HOSPITALITY MANAGEMENT' 'LANGUAGE AND DRAMA EDUCATION'\n",
      " 'LINGUISTICS AND COMPARATIVE LANGUAGE AND LITERATURE'\n",
      " 'MISCELLANEOUS EDUCATION' 'INTERDISCIPLINARY SOCIAL SCIENCES' 'ECOLOGY'\n",
      " 'SECONDARY TEACHER EDUCATION' 'GENERAL MEDICAL AND HEALTH SERVICES'\n",
      " 'PHILOSOPHY AND RELIGIOUS STUDIES' 'ART AND MUSIC EDUCATION'\n",
      " 'ENGLISH LANGUAGE AND LITERATURE' 'ELEMENTARY EDUCATION'\n",
      " 'PHYSICAL FITNESS PARKS RECREATION AND LEISURE' 'LIBERAL ARTS'\n",
      " 'FILM VIDEO AND PHOTOGRAPHIC ARTS' 'GENERAL SOCIAL SCIENCES'\n",
      " 'PLANT SCIENCE AND AGRONOMY' 'SCIENCE AND COMPUTER TEACHER EDUCATION'\n",
      " 'PSYCHOLOGY' 'MUSIC' 'PHYSICAL AND HEALTH EDUCATION TEACHING'\n",
      " 'ART HISTORY AND CRITICISM' 'FINE ARTS' 'FAMILY AND CONSUMER SCIENCES'\n",
      " 'SOCIAL WORK' 'ANIMAL SCIENCES' 'VISUAL AND PERFORMING ARTS'\n",
      " 'TEACHER EDUCATION: MULTIPLE LEVELS' 'MISCELLANEOUS PSYCHOLOGY'\n",
      " 'HUMAN SERVICES AND COMMUNITY ORGANIZATION' 'HUMANITIES'\n",
      " 'THEOLOGY AND RELIGIOUS VOCATIONS' 'STUDIO ARTS'\n",
      " 'COSMETOLOGY SERVICES AND CULINARY ARTS' 'MISCELLANEOUS AGRICULTURE'\n",
      " 'ANTHROPOLOGY AND ARCHEOLOGY'\n",
      " 'COMMUNICATION DISORDERS SCIENCES AND SERVICES'\n",
      " 'EARLY CHILDHOOD EDUCATION' 'OTHER FOREIGN LANGUAGES'\n",
      " 'DRAMA AND THEATER ARTS' 'COMPOSITION AND RHETORIC' 'ZOOLOGY'\n",
      " 'EDUCATIONAL PSYCHOLOGY' 'CLINICAL PSYCHOLOGY' 'COUNSELING PSYCHOLOGY'\n",
      " 'LIBRARY SCIENCE']\n"
     ]
    }
   ],
   "source": [
    "# Liste des majors communes à nos 2 DataFrames\n",
    "majors = recent_grads['Major'].unique()\n",
    "print(majors)"
   ]
  },
  {
   "cell_type": "code",
   "execution_count": 83,
   "metadata": {},
   "outputs": [
    {
     "data": {
      "text/plain": [
       "1"
      ]
     },
     "execution_count": 83,
     "metadata": {},
     "output_type": "execute_result"
    }
   ],
   "source": [
    "recent_grads_row = recent_grads[recent_grads['Major'] == 'CHEMICAL ENGINEERING']\n",
    "all_ages_row = all_ages[all_ages['Major'] == 'CHEMICAL ENGINEERING']\n",
    "recent_grads_row\n",
    "all_ages_row.shape[0]\n",
    "#all_ages_row"
   ]
  },
  {
   "cell_type": "code",
   "execution_count": 78,
   "metadata": {},
   "outputs": [
    {
     "data": {
      "text/plain": [
       "(0.061097712, 0.046261360999999994)"
      ]
     },
     "execution_count": 78,
     "metadata": {},
     "output_type": "execute_result"
    }
   ],
   "source": [
    "rg_lower_count = 0\n",
    "\n",
    "recent_grads_row.reset_index(inplace=True, drop=True)\n",
    "rg_unemp_rate = recent_grads_row.loc[0,'Unemployment_rate']\n",
    "\n",
    "all_ages_row.reset_index(inplace=True, drop=True)\n",
    "aa_unemp_rate = all_ages_row.loc[0,'Unemployment_rate']\n",
    "\n",
    "#aa_unemp_rate = all_ages_row['Unemployment_rate'].values\n",
    "rg_unemp_rate, aa_unemp_rate"
   ]
  },
  {
   "cell_type": "code",
   "execution_count": 76,
   "metadata": {},
   "outputs": [
    {
     "data": {
      "text/plain": [
       "1"
      ]
     },
     "execution_count": 76,
     "metadata": {},
     "output_type": "execute_result"
    }
   ],
   "source": [
    "if rg_unemp_rate < aa_unemp_rate:\n",
    "    rg_lower_count += 1\n",
    "    \n",
    "rg_lower_count"
   ]
  },
  {
   "cell_type": "code",
   "execution_count": 86,
   "metadata": {},
   "outputs": [
    {
     "name": "stdout",
     "output_type": "stream",
     "text": [
      "42\n"
     ]
    }
   ],
   "source": [
    "rg_lower_count = 0\n",
    "\n",
    "for m in majors:\n",
    "    \n",
    "    recent_grads_row = recent_grads[recent_grads['Major'] == m]\n",
    "    all_ages_row = all_ages[all_ages['Major'] == m]\n",
    "\n",
    "#Il peut arriver que pour certain major le dataFrame retourné soit vide, donc pensé à vérifier si c'est le cas ou pas\n",
    "    if all_ages_row.shape[0] > 0 and recent_grads_row.shape[0] > 0 :\n",
    "    \n",
    "        recent_grads_row.reset_index(inplace=True, drop=True)\n",
    "        rg_unemp_rate = recent_grads_row.loc[0,'Unemployment_rate']\n",
    "\n",
    "        all_ages_row.reset_index(inplace=True, drop=True)\n",
    "        aa_unemp_rate = all_ages_row.loc[0,'Unemployment_rate']\n",
    "\n",
    "        if rg_unemp_rate < aa_unemp_rate:\n",
    "            rg_lower_count += 1\n",
    "        \n",
    "print(rg_lower_count)"
   ]
  },
  {
   "cell_type": "code",
   "execution_count": 87,
   "metadata": {},
   "outputs": [
    {
     "name": "stdout",
     "output_type": "stream",
     "text": [
      "42\n"
     ]
    },
    {
     "name": "stderr",
     "output_type": "stream",
     "text": [
      "<ipython-input-87-abef27d654b7>:13: RuntimeWarning: invalid value encountered in less\n",
      "  if rg_unemp_rate < aa_unemp_rate:\n"
     ]
    }
   ],
   "source": [
    "rg_lower_count = 0\n",
    "\n",
    "for m in majors:\n",
    "    \n",
    "    recent_grads_row = recent_grads[recent_grads['Major'] == m]\n",
    "    all_ages_row = all_ages[all_ages['Major'] == m]\n",
    "    \n",
    "    rg_unemp_rate = recent_grads_row['Unemployment_rate'].values\n",
    "    aa_unemp_rate = all_ages_row['Unemployment_rate'].values\n",
    "    \n",
    "    if rg_unemp_rate.size > 0 and aa_unemp_rate.size > 0:\n",
    "    \n",
    "        if rg_unemp_rate < aa_unemp_rate:\n",
    "            rg_lower_count += 1\n",
    "        \n",
    "print(rg_lower_count)"
   ]
  },
  {
   "cell_type": "code",
   "execution_count": null,
   "metadata": {},
   "outputs": [],
   "source": []
  }
 ],
 "metadata": {
  "kernelspec": {
   "display_name": "Python 3",
   "language": "python",
   "name": "python3"
  },
  "language_info": {
   "codemirror_mode": {
    "name": "ipython",
    "version": 3
   },
   "file_extension": ".py",
   "mimetype": "text/x-python",
   "name": "python",
   "nbconvert_exporter": "python",
   "pygments_lexer": "ipython3",
   "version": "3.8.3"
  }
 },
 "nbformat": 4,
 "nbformat_minor": 2
}
