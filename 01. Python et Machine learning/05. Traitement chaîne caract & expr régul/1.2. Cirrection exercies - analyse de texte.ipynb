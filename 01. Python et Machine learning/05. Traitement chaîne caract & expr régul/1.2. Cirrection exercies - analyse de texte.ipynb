{
 "cells": [
  {
   "cell_type": "code",
   "execution_count": 1,
   "metadata": {},
   "outputs": [
    {
     "name": "stdout",
     "output_type": "stream",
     "text": [
      "['Il', 'Divine', 'Enfant']\n"
     ]
    }
   ],
   "source": [
    "def hascap(s):\n",
    "    mots = s.split()\n",
    "    majs = []\n",
    "    for m in mots:\n",
    "        if ord(m[0]) in range(65, 91):\n",
    "            majs.append(m)\n",
    "    return majs\n",
    "print(hascap(\"Il est venu le Divine Enfant\"))"
   ]
  },
  {
   "cell_type": "code",
   "execution_count": 2,
   "metadata": {},
   "outputs": [
    {
     "name": "stdout",
     "output_type": "stream",
     "text": [
      "Le prix est de 54 euros\n"
     ]
    }
   ],
   "source": [
    "def inflation(s):\n",
    "    mots = s.split()\n",
    "    for i, m in enumerate(mots):\n",
    "        if m.isnumeric():\n",
    "            mots[i]  = str(2*int(m))\n",
    "    return \" \".join(mots)\n",
    "print(inflation(\"Le prix est de 27 euros\"))"
   ]
  },
  {
   "cell_type": "code",
   "execution_count": 3,
   "metadata": {},
   "outputs": [
    {
     "name": "stdout",
     "output_type": "stream",
     "text": [
      "['Onze ans déjà que cela ', 'passe vite Vous vous ', 'étiez servis ', 'simplement de vos ', 'armes la mort ', \"n'eblouit pas les yeux \", 'des partisants Vous ', 'aviez vos portraits ', 'sur les murs de nos ', 'villes ']\n"
     ]
    }
   ],
   "source": [
    "def lignes(s):\n",
    "    mots = s.split()\n",
    "    lignes  = ['']\n",
    "    for m in mots:\n",
    "        m += \" \"\n",
    "        if len(lignes[-1])+len(m)<24:\n",
    "            lignes[-1] += (m)\n",
    "        else:\n",
    "            lignes.append(m)\n",
    "    return lignes\n",
    "s = \"Onze ans déjà que cela passe vite Vous \"\n",
    "s += \"vous étiez servis simplement de vos armes la \"\n",
    "s += \"mort n'eblouit pas les yeux des partisants Vous \"\n",
    "s += \"aviez vos portraits sur les murs de nos villes\"\n",
    "print(lignes(s))"
   ]
  },
  {
   "cell_type": "code",
   "execution_count": 5,
   "metadata": {},
   "outputs": [
    {
     "name": "stdout",
     "output_type": "stream",
     "text": [
      "['2', '6.50']\n"
     ]
    }
   ],
   "source": [
    "from re import findall\n",
    "\n",
    "s = \"Les 2 maquereaux valent 6.50 euros\"\n",
    "\n",
    "def nombre(s):\n",
    "    motif = \"-?[0-9]+[,.]?[0-9]*\"\n",
    "    return(findall(motif, s))\n",
    "\n",
    "print(nombre(s))"
   ]
  },
  {
   "cell_type": "code",
   "execution_count": 6,
   "metadata": {},
   "outputs": [
    {
     "name": "stdout",
     "output_type": "stream",
     "text": [
      "L'evolution sur 3 jours est de 7 points\n"
     ]
    }
   ],
   "source": [
    "from re import *\n",
    "\n",
    "def tronc(s):\n",
    "    motif = r\"(-?)([0-9]+)[,.]?[0-9]*\"\n",
    "    return sub(motif, r\"\\1\\2\", s)\n",
    "s = \"L'evolution sur 3,5 jours est de 7.23 points\"\n",
    "print(tronc(s))"
   ]
  }
 ],
 "metadata": {
  "kernelspec": {
   "display_name": "Python 3",
   "language": "python",
   "name": "python3"
  },
  "language_info": {
   "codemirror_mode": {
    "name": "ipython",
    "version": 3
   },
   "file_extension": ".py",
   "mimetype": "text/x-python",
   "name": "python",
   "nbconvert_exporter": "python",
   "pygments_lexer": "ipython3",
   "version": "3.8.3"
  }
 },
 "nbformat": 4,
 "nbformat_minor": 2
}
