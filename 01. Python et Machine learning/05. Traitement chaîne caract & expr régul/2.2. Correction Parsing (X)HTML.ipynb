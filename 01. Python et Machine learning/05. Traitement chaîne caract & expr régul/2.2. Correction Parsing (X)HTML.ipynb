{
 "cells": [
  {
   "cell_type": "code",
   "execution_count": 3,
   "metadata": {},
   "outputs": [],
   "source": [
    "from re import *"
   ]
  },
  {
   "cell_type": "code",
   "execution_count": 4,
   "metadata": {},
   "outputs": [
    {
     "data": {
      "text/plain": [
       "{1: '<e>', 7: '<h3>', 14: '</h3>', 22: '<h2>', 31: '</h2>', 56: '<br>'}"
      ]
     },
     "execution_count": 4,
     "metadata": {},
     "output_type": "execute_result"
    }
   ],
   "source": [
    "# 1)\n",
    "## ce code ne fonctionne pas avec des doublons\n",
    "\n",
    "def balise2dico0(t):\n",
    "    balises = findall('<[^>]*>', t)\n",
    "    dict={}\n",
    "    for b in balises:\n",
    "        dict[t.index(b)]=b\n",
    "    return dict\n",
    "\n",
    "s='C<e>ci <h3>est</h3> 1 <h2>titre</h2>titre</h2> b<h2>zrre<br>'\n",
    "balise2dico0(s)"
   ]
  },
  {
   "cell_type": "code",
   "execution_count": 5,
   "metadata": {},
   "outputs": [
    {
     "data": {
      "text/plain": [
       "{1: '<e>',\n",
       " 7: '<h3>',\n",
       " 14: '</h3>',\n",
       " 22: '<h2>',\n",
       " 31: '</h2>',\n",
       " 48: '<h2>',\n",
       " 56: '<br>'}"
      ]
     },
     "execution_count": 5,
     "metadata": {},
     "output_type": "execute_result"
    }
   ],
   "source": [
    "## ce code fonctionne\n",
    "\n",
    "def balise2dico(t):\n",
    "    balises = findall('<[^>]*>', t)\n",
    "    dict={}\n",
    "    start=0\n",
    "    for b in balises:\n",
    "        start=t.index(b, start)\n",
    "        dict[start]=b\n",
    "    return dict\n",
    "\n",
    "balise2dico(s)"
   ]
  },
  {
   "cell_type": "code",
   "execution_count": 8,
   "metadata": {},
   "outputs": [
    {
     "data": {
      "text/plain": [
       "'C<e>ci EST 1 TITREtitre</h2> b<h2>zrre<br>'"
      ]
     },
     "execution_count": 8,
     "metadata": {},
     "output_type": "execute_result"
    }
   ],
   "source": [
    "# 2)\n",
    "\n",
    "def interpreter(t):\n",
    "    titres = findall('<h[0-9]>[^<]*</h[0-9]>', t)\n",
    "    dict = {}\n",
    "    start = 0\n",
    "    for m in titres:\n",
    "        start = t.index(m, start)\n",
    "        dict[start] = m\n",
    "    for i,m in enumerate(titres):\n",
    "        x = sub('<h[0-9]>([^>]*)</h[0-9]>', r'\\1', m)\n",
    "        t = sub('<h[0-9]>'+x+'</h[0-9]>', x.upper(), t)\n",
    "    return t\n",
    "\n",
    "interpreter(s)"
   ]
  },
  {
   "cell_type": "code",
   "execution_count": 9,
   "metadata": {},
   "outputs": [
    {
     "data": {
      "text/plain": [
       "' 159,57; 168,71;'"
      ]
     },
     "execution_count": 9,
     "metadata": {},
     "output_type": "execute_result"
    }
   ],
   "source": [
    "# 3)\n",
    "\n",
    "def xml2csv(t):\n",
    "    data = t.split('<individu>')\n",
    "    for i, x in enumerate(data):\n",
    "        y = sub('</[^>]*></individu>',';',x)\n",
    "        y = sub('</[^>]*>', ',', y)\n",
    "        data[i] = sub('<[^>]*>', '', y)\n",
    "    t = \" \".join(data)\n",
    "    return t\n",
    "\n",
    "s2 = \"<individu><taille>159</taille><poids>57</poids></individu>\"\n",
    "s2 += \"<individu><taille>168</taille><poids>71</poids></individu>\"\n",
    "\n",
    "xml2csv(s2)"
   ]
  },
  {
   "cell_type": "code",
   "execution_count": null,
   "metadata": {},
   "outputs": [],
   "source": []
  },
  {
   "cell_type": "code",
   "execution_count": null,
   "metadata": {},
   "outputs": [],
   "source": []
  }
 ],
 "metadata": {
  "kernelspec": {
   "display_name": "Python 3",
   "language": "python",
   "name": "python3"
  },
  "language_info": {
   "codemirror_mode": {
    "name": "ipython",
    "version": 3
   },
   "file_extension": ".py",
   "mimetype": "text/x-python",
   "name": "python",
   "nbconvert_exporter": "python",
   "pygments_lexer": "ipython3",
   "version": "3.8.3"
  }
 },
 "nbformat": 4,
 "nbformat_minor": 4
}
