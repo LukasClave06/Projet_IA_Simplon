{
 "cells": [
  {
   "cell_type": "code",
   "execution_count": 3,
   "metadata": {},
   "outputs": [],
   "source": [
    "from re import *\n",
    "\n",
    "s= \"Les etrois tris, lys trois gros, les troisx roi.\""
   ]
  },
  {
   "cell_type": "code",
   "execution_count": 4,
   "metadata": {},
   "outputs": [
    {
     "name": "stdout",
     "output_type": "stream",
     "text": [
      "[' trois ', ' tris ']\n",
      "[' les ']\n"
     ]
    }
   ],
   "source": [
    "# 1.\n",
    "\n",
    "def almost(mot, s):\n",
    "    z = \" \"+sub(\"[.,]\", \"\", s)+\" \"\n",
    "    found = findall(\"\\s\"+mot+\"\\s\", z)\n",
    "    for i in range(len(mot)):\n",
    "        motif = \"\\s\"+mot[:i]+mot[i+1:]+\"\\s\"\n",
    "        found += findall(motif, \" \"+z)\n",
    "    return found\n",
    "\n",
    "print(almost(\"trois\", s))\n",
    "print(almost(\"les\", s))"
   ]
  },
  {
   "cell_type": "code",
   "execution_count": 5,
   "metadata": {},
   "outputs": [
    {
     "name": "stdout",
     "output_type": "stream",
     "text": [
      "[' trois ', ' troisx ', ' tris ']\n",
      "[' les ', ' Les ', ' lys ']\n"
     ]
    }
   ],
   "source": [
    "# 2.\n",
    "\n",
    "def pluslarge(mot, s):\n",
    "    z = \" \"+sub(\"[,.]\", \"\", s)+ \" \"\n",
    "    found = findall(\"\\s\"+mot+\"[^\\s]?\\s\", z)\n",
    "    for i in range(len(mot)):\n",
    "        # Je cherche le mot avec une lettre remplacé\n",
    "        motif = \"\\s\"+mot[:i]+\"[^\"+mot[i]+\"]?\"\n",
    "        motif += mot[i+1:]+\"\\s\"\n",
    "        found += findall(motif, \" \"+z)\n",
    "        # Je cherche le mot avec une lettre en plus\n",
    "        motif += \"\\s\"+mot[:i]+\"[^\\s]\"+mot[i:]+\"\\s\"\n",
    "        found += findall(motif, \" \"+z)\n",
    "    return found\n",
    "\n",
    "print(pluslarge(\"trois\", s))\n",
    "print(pluslarge(\"les\", s))"
   ]
  },
  {
   "cell_type": "code",
   "execution_count": 7,
   "metadata": {},
   "outputs": [
    {
     "name": "stdout",
     "output_type": "stream",
     "text": [
      "19\n",
      "11\n"
     ]
    }
   ],
   "source": [
    "# 3.\n",
    "\n",
    "def score(p, s):\n",
    "    sc = 0\n",
    "    q = \" \"+sub(\"[,.]\",\"\", p)+\" \"\n",
    "    z = \" \" + sub(\"[,.]\",\"\", s)\n",
    "    for x in p.split():\n",
    "        sc += len(pluslarge(x, s))\n",
    "        sc += 4*z.count(\" \"+x+\" \")\n",
    "    return sc\n",
    "\n",
    "print(score(\"les trois gros\", s))\n",
    "print(score(p, t))"
   ]
  },
  {
   "cell_type": "code",
   "execution_count": 12,
   "metadata": {},
   "outputs": [
    {
     "name": "stdout",
     "output_type": "stream",
     "text": [
      "31\n"
     ]
    }
   ],
   "source": [
    "# 4.\n",
    "\n",
    "def score2(p, s):\n",
    "    s = s.lower()\n",
    "    p = p.lower()\n",
    "    sc = 0\n",
    "    q = \" \"+sub(\"[,.]\", \"\", p)+ \" \"\n",
    "    z = \" \"+sub(\"[,.]\", \"\", s)+ \" \"\n",
    "    mots = p.split()\n",
    "    for x in mots:\n",
    "        for y in pluslarge(x, z):\n",
    "            sc += 5 if y in q else 1\n",
    "    for i in range(len(mots)-1):\n",
    "        if \" \"+mots[i]+\" \"+mots[i+1]+\" \" in z :\n",
    "            sc += 20\n",
    "    return sc\n",
    "\n",
    "p=\"Le petit bonhomme en mousse\"\n",
    "t = \"Ce superbe matelas en mousse naturelle\"\n",
    "print(score2(p, t))\n",
    "#print(score2(\"les trois gros\", s))"
   ]
  },
  {
   "cell_type": "code",
   "execution_count": null,
   "metadata": {},
   "outputs": [],
   "source": []
  },
  {
   "cell_type": "code",
   "execution_count": null,
   "metadata": {},
   "outputs": [],
   "source": []
  },
  {
   "cell_type": "code",
   "execution_count": 14,
   "metadata": {},
   "outputs": [
    {
     "name": "stdout",
     "output_type": "stream",
     "text": [
      "Pandas.txt : 67\n",
      "Matplotlib.txt : 65\n",
      "Seaborn.txt : 38\n",
      "Numpy.txt : 31\n"
     ]
    }
   ],
   "source": [
    "import os\n",
    "liste = os.listdir('Jeux_de_donnees/textes')\n",
    "results={}\n",
    "\n",
    "recherche = \"analyse et visualisation\"\n",
    "\n",
    "for file in liste:\n",
    "    filin = open(\"Jeux_de_donnees/textes/\"+file, \"r\", encoding=\"utf-8\")\n",
    "    filin = filin.read()\n",
    "    results[file] = score2(recherche, filin)\n",
    "    \n",
    "tuples = sorted(results.items(), key=lambda item: item[1], reverse=True)\n",
    "\n",
    "for i, j in tuples :\n",
    "    print(i + \" : \" + str(j))"
   ]
  },
  {
   "cell_type": "code",
   "execution_count": null,
   "metadata": {},
   "outputs": [],
   "source": []
  }
 ],
 "metadata": {
  "kernelspec": {
   "display_name": "Python 3",
   "language": "python",
   "name": "python3"
  },
  "language_info": {
   "codemirror_mode": {
    "name": "ipython",
    "version": 3
   },
   "file_extension": ".py",
   "mimetype": "text/x-python",
   "name": "python",
   "nbconvert_exporter": "python",
   "pygments_lexer": "ipython3",
   "version": "3.8.3"
  }
 },
 "nbformat": 4,
 "nbformat_minor": 4
}
