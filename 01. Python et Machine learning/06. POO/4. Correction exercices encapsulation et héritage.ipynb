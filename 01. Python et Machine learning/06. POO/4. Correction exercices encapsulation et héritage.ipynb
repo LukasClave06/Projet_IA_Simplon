{
 "cells": [
  {
   "cell_type": "code",
   "execution_count": 1,
   "metadata": {},
   "outputs": [],
   "source": [
    "class formulaire:\n",
    "    def __init__(self, nom, prenom, naissance):\n",
    "        self.nom = str(nom).upper()\n",
    "        self.prenom = str(prenom).upper()\n",
    "        na = str(naissance)\n",
    "        if na.isnumeric():\n",
    "            self.naissance = int(na)\n",
    "        else:\n",
    "            self.naissance = 1900\n",
    "    def age(self):\n",
    "        return 2020 - self.naissance\n",
    "    def majeur(self):\n",
    "        return self.age() >= 18\n",
    "    def memeFamille(self, formulaire):\n",
    "        return self.nom == formulaire.nom"
   ]
  },
  {
   "cell_type": "code",
   "execution_count": 2,
   "metadata": {},
   "outputs": [
    {
     "name": "stdout",
     "output_type": "stream",
     "text": [
      "15\n",
      "16\n",
      "120\n"
     ]
    }
   ],
   "source": [
    "jd = formulaire('Doe', 'John', 2005)\n",
    "jb = formulaire('Noob', 'John', '2004')\n",
    "ad = formulaire('doe', 'Alice', 'yolo')\n",
    "\n",
    "print(jd.age())\n",
    "print(jb.age())\n",
    "print(ad.age())"
   ]
  },
  {
   "cell_type": "code",
   "execution_count": 7,
   "metadata": {},
   "outputs": [
    {
     "ename": "TypeError",
     "evalue": "unsupported operand type(s) for -: 'int' and 'str'",
     "output_type": "error",
     "traceback": [
      "\u001b[1;31m---------------------------------------------------------------------------\u001b[0m",
      "\u001b[1;31mTypeError\u001b[0m                                 Traceback (most recent call last)",
      "\u001b[1;32m<ipython-input-7-786dcdcc34b3>\u001b[0m in \u001b[0;36m<module>\u001b[1;34m\u001b[0m\n\u001b[0;32m      1\u001b[0m \u001b[0mad\u001b[0m \u001b[1;33m=\u001b[0m \u001b[0mformulaire\u001b[0m\u001b[1;33m(\u001b[0m\u001b[1;34m'doe'\u001b[0m\u001b[1;33m,\u001b[0m \u001b[1;34m'Alice'\u001b[0m\u001b[1;33m,\u001b[0m \u001b[1;34m'yolo'\u001b[0m\u001b[1;33m)\u001b[0m\u001b[1;33m\u001b[0m\u001b[1;33m\u001b[0m\u001b[0m\n\u001b[0;32m      2\u001b[0m \u001b[0mad\u001b[0m\u001b[1;33m.\u001b[0m\u001b[0mnaissance\u001b[0m \u001b[1;33m=\u001b[0m \u001b[1;34m'yolo'\u001b[0m\u001b[1;33m\u001b[0m\u001b[1;33m\u001b[0m\u001b[0m\n\u001b[1;32m----> 3\u001b[1;33m \u001b[0mprint\u001b[0m\u001b[1;33m(\u001b[0m\u001b[0mad\u001b[0m\u001b[1;33m.\u001b[0m\u001b[0mage\u001b[0m\u001b[1;33m(\u001b[0m\u001b[1;33m)\u001b[0m\u001b[1;33m)\u001b[0m\u001b[1;33m\u001b[0m\u001b[1;33m\u001b[0m\u001b[0m\n\u001b[0m",
      "\u001b[1;32m<ipython-input-5-1eb9ca708b91>\u001b[0m in \u001b[0;36mage\u001b[1;34m(self)\u001b[0m\n\u001b[0;32m      9\u001b[0m             \u001b[0mself\u001b[0m\u001b[1;33m.\u001b[0m\u001b[0mnaissance\u001b[0m \u001b[1;33m=\u001b[0m \u001b[1;36m1900\u001b[0m\u001b[1;33m\u001b[0m\u001b[1;33m\u001b[0m\u001b[0m\n\u001b[0;32m     10\u001b[0m     \u001b[1;32mdef\u001b[0m \u001b[0mage\u001b[0m\u001b[1;33m(\u001b[0m\u001b[0mself\u001b[0m\u001b[1;33m)\u001b[0m\u001b[1;33m:\u001b[0m\u001b[1;33m\u001b[0m\u001b[1;33m\u001b[0m\u001b[0m\n\u001b[1;32m---> 11\u001b[1;33m         \u001b[1;32mreturn\u001b[0m \u001b[1;36m2020\u001b[0m \u001b[1;33m-\u001b[0m \u001b[0mself\u001b[0m\u001b[1;33m.\u001b[0m\u001b[0mnaissance\u001b[0m\u001b[1;33m\u001b[0m\u001b[1;33m\u001b[0m\u001b[0m\n\u001b[0m\u001b[0;32m     12\u001b[0m     \u001b[1;32mdef\u001b[0m \u001b[0mmajeur\u001b[0m\u001b[1;33m(\u001b[0m\u001b[0mself\u001b[0m\u001b[1;33m)\u001b[0m\u001b[1;33m:\u001b[0m\u001b[1;33m\u001b[0m\u001b[1;33m\u001b[0m\u001b[0m\n\u001b[0;32m     13\u001b[0m         \u001b[1;32mreturn\u001b[0m \u001b[0mself\u001b[0m\u001b[1;33m.\u001b[0m\u001b[0mage\u001b[0m\u001b[1;33m(\u001b[0m\u001b[1;33m)\u001b[0m \u001b[1;33m>=\u001b[0m \u001b[1;36m18\u001b[0m\u001b[1;33m\u001b[0m\u001b[1;33m\u001b[0m\u001b[0m\n",
      "\u001b[1;31mTypeError\u001b[0m: unsupported operand type(s) for -: 'int' and 'str'"
     ]
    }
   ],
   "source": [
    "ad = formulaire('doe', 'Alice', 'yolo')\n",
    "ad.naissance = 'yolo'\n",
    "print(ad.age())"
   ]
  },
  {
   "cell_type": "code",
   "execution_count": 2,
   "metadata": {},
   "outputs": [],
   "source": [
    "class formulaire:\n",
    "    def __init__(self, nom, prenom, naissance):\n",
    "        self.nom = str(nom).upper()\n",
    "        self.prenom = str(prenom).upper()\n",
    "        self.naissance = naissance\n",
    "    def _set_naissance(self, naissance):\n",
    "        na = str(naissance)\n",
    "        if na.isnumeric():\n",
    "            self._naissance = int(na)\n",
    "        else:\n",
    "            self._naissance = 1900\n",
    "    def _get_naissance(self):\n",
    "        return self._naissance\n",
    "    naissance = property(_get_naissance, _set_naissance)\n",
    "    def age(self):\n",
    "        return 2020 - self.naissance\n",
    "    def majeur(self):\n",
    "        return self.age() >= 18\n",
    "    def memeFamille(self, formulaire):\n",
    "        return self.nom == formulaire.nom"
   ]
  },
  {
   "cell_type": "code",
   "execution_count": 3,
   "metadata": {},
   "outputs": [
    {
     "name": "stdout",
     "output_type": "stream",
     "text": [
      "120\n",
      "120\n",
      "30\n"
     ]
    }
   ],
   "source": [
    "ad = formulaire('doe', 'Alice', 'yolo')\n",
    "print(ad.age())\n",
    "ad.naissance = 'yolo'\n",
    "print(ad.age())\n",
    "ad.naissance = '1990'\n",
    "print(ad.age())"
   ]
  },
  {
   "cell_type": "code",
   "execution_count": 3,
   "metadata": {},
   "outputs": [],
   "source": [
    "\"\"\"\n",
    "Modifier _get_naissance() de sort qu’il provoque un affichage dans la console avant de renvoyer la valeur.\n",
    "L’appel au calcul de l’âge provoque-t-il un affichage supplémentaire ?\n",
    "Pourquoi ?\n",
    "\"\"\"\n",
    "\n",
    "class formulaire:\n",
    "    def __init__(self, nom, prenom, naissance):\n",
    "        self.nom = str(nom).upper()\n",
    "        self.prenom = str(prenom).upper()\n",
    "        self.naissance = naissance\n",
    "        \n",
    "    def _set_naissance(self, naissance):\n",
    "        na = str(naissance)\n",
    "        if na.isnumeric():\n",
    "            self._naissance = int(na)\n",
    "        else:\n",
    "            self._naissance = 1900\n",
    "            \n",
    "    def _get_naissance(self):\n",
    "        print(\"valeur de naissance : \"\n",
    "             + str(self._naissance))\n",
    "        return self._naissance\n",
    "    \n",
    "    naissance = property(_get_naissance, _set_naissance)\n",
    "    \n",
    "    \n",
    "    def age(self):\n",
    "        return 2020 - self._naissance\n",
    "    def majeur(self):\n",
    "        return self.age() >= 18"
   ]
  },
  {
   "cell_type": "code",
   "execution_count": 4,
   "metadata": {},
   "outputs": [
    {
     "name": "stdout",
     "output_type": "stream",
     "text": [
      "29\n",
      "valeur de naissance : 1991\n",
      "1991\n"
     ]
    }
   ],
   "source": [
    "ad = formulaire('doe', 'Alice', '1991')\n",
    "print(ad.age())\n",
    "print(ad.naissance)"
   ]
  },
  {
   "cell_type": "code",
   "execution_count": null,
   "metadata": {},
   "outputs": [],
   "source": [
    "\"\"\"\n",
    "On remarque l'affichage de notre ligne supplémentaire n'a lieu qu'une seul fois.\n",
    "En effet, lorsque nous calculons l'âge avec la méthode age(),\n",
    "on accéde directement à _naissance sans passer par l'alias naissance et donc sans invoquer _get_naissance.\n",
    "\"\"\""
   ]
  },
  {
   "cell_type": "code",
   "execution_count": 2,
   "metadata": {},
   "outputs": [],
   "source": [
    "\"\"\"\n",
    "Modifier _set_naissance() de sorte qu’il gère aussi le cas ou la date de naissance est donnée comme une liste.\n",
    "\"\"\"\n",
    "\n",
    "class formulaire:\n",
    "    def __init__(self, nom, prenom, naissance):\n",
    "        self.nom = str(nom).upper()\n",
    "        self.prenom = str(prenom).upper()\n",
    "        self.naissance = naissance\n",
    "        \n",
    "    def _set_naissance(self, naissance):\n",
    "        if str(type(naissance)) == \"<class 'list'>\":\n",
    "            naissance = \"\".join((str(s) for s in naissance))\n",
    "        if (str(type(naissance)) == \"<class 'str'>\"\n",
    "               and naissance.isnumeric()):\n",
    "            naissance = int(naissance)\n",
    "        if str(type(naissance)) == \"<class 'int'>\":\n",
    "            self._naissance = naissance\n",
    "            \n",
    "    def _get_naissance(self):\n",
    "        print(\"valeur de naissance : \"\n",
    "             + str(self._naissance))\n",
    "        return self._naissance\n",
    "    \n",
    "    naissance = property(_get_naissance, _set_naissance)\n",
    "    \n",
    "    \n",
    "    def age(self):\n",
    "        return 2020 - self._naissance\n",
    "    def majeur(self):\n",
    "        return self.age() >= 18"
   ]
  },
  {
   "cell_type": "code",
   "execution_count": 42,
   "metadata": {},
   "outputs": [
    {
     "name": "stdout",
     "output_type": "stream",
     "text": [
      "29\n",
      "29\n",
      "29\n",
      "29\n"
     ]
    }
   ],
   "source": [
    "ad = formulaire('doe', 'Alice', 1991)\n",
    "print(ad.age())\n",
    "\n",
    "ad = formulaire('doe', 'Alice', '1991')\n",
    "print(ad.age())\n",
    "\n",
    "ad = formulaire('doe', 'Alice', [1, 9, 9, 1])\n",
    "print(ad.age())\n",
    "\n",
    "ad = formulaire('doe', 'Alice', [\"19\", \"91\"])\n",
    "print(ad.age())"
   ]
  },
  {
   "cell_type": "code",
   "execution_count": 59,
   "metadata": {},
   "outputs": [],
   "source": [
    "\"\"\"\n",
    "Utiliser des propriété similaire pour encapsuler le nom et le prénom.\n",
    "\"\"\"\n",
    "\n",
    "class formulaire:\n",
    "    def __init__(self, nom, prenom, naissance):\n",
    "        self.nom = nom\n",
    "        self.prenom = prenom\n",
    "        self.naissance = naissance\n",
    "    \n",
    "    def _set_nom(self, nom):\n",
    "        self._nom = str(nom).upper()\n",
    "        \n",
    "    def _set_prenom(self, prenom):\n",
    "        self._prenom = str(prenom).upper()\n",
    "    \n",
    "    def _set_naissance(self, naissance):\n",
    "        self._naissance = 1900\n",
    "        if str(type(naissance)) == \"<class 'list'>\":\n",
    "            naissance = \"\".join((str(s) for s in naissance))\n",
    "        if (str(type(naissance)) == \"<class 'str'>\"\n",
    "               and naissance.isnumeric()):\n",
    "            naissance = int(naissance)\n",
    "        if str(type(naissance) == \"<class 'int'>\"):\n",
    "            self._naissance = naissance\n",
    "            \n",
    "    def _get_nom(self):\n",
    "        return self._nom\n",
    "    \n",
    "    def _get_prenom(self):\n",
    "        return self._prenom\n",
    "    \n",
    "    def _get_naissance(self):\n",
    "        print(\"valeur de naissance : \"\n",
    "             + str(self._naissance))\n",
    "        return self._naissance\n",
    "    \n",
    "    nom = property(_get_nom, _set_nom)\n",
    "    prenom = property(_get_nom, _set_nom)\n",
    "    naissance = property(_get_naissance, _set_naissance)\n",
    "    \n",
    "    \n",
    "    def age(self):\n",
    "        return 2020 - self._naissance\n",
    "    def majeur(self):\n",
    "        return self.age() >= 18"
   ]
  },
  {
   "cell_type": "code",
   "execution_count": 60,
   "metadata": {},
   "outputs": [
    {
     "name": "stdout",
     "output_type": "stream",
     "text": [
      "ALICE\n",
      "ALICE\n",
      "DEPAILLE\n",
      "DEPAILLE\n"
     ]
    }
   ],
   "source": [
    "ad = formulaire('doe', 'Alice', '1977')\n",
    "print(ad.nom)\n",
    "print(ad.prenom)\n",
    "\n",
    "ad.nom = 'Chapeau'\n",
    "ad.prenom = 'DePaille'\n",
    "print(ad.nom)\n",
    "print(ad.prenom)"
   ]
  },
  {
   "cell_type": "code",
   "execution_count": 3,
   "metadata": {},
   "outputs": [
    {
     "name": "stdout",
     "output_type": "stream",
     "text": [
      "DOJH21\n",
      "DOAL29\n"
     ]
    }
   ],
   "source": [
    "\"\"\"\n",
    "Créer une class data qui hérite du formulaire et possède un attribut supplémentaire id.\n",
    "Une méthode doit permettre d’initialiser cette identifiant comme une combinaison de caractères \n",
    "pris dans chaque autre attribut.\n",
    "\"\"\"\n",
    "\n",
    "class data(formulaire):\n",
    "    def __init__(self, nom, prenom, naissance):\n",
    "        formulaire.__init__(self, nom, prenom, naissance)\n",
    "    def buildID(self):\n",
    "        self.id = self.nom[:2]\n",
    "        self.id += self.prenom[:2]\n",
    "        self.id += str(self.age())\n",
    "        \n",
    "jd = data('Doe', 'Jhon', 1999)\n",
    "ad = data('Doe', 'Alice', 1991)\n",
    "\n",
    "jd.buildID()\n",
    "ad.buildID()\n",
    "print(jd.id)\n",
    "print(ad.id)"
   ]
  },
  {
   "cell_type": "code",
   "execution_count": 55,
   "metadata": {},
   "outputs": [
    {
     "name": "stdout",
     "output_type": "stream",
     "text": [
      "DOJH21\n",
      "DOAL29\n"
     ]
    }
   ],
   "source": [
    "jd = data('Doe', 'Jhon', 1999)\n",
    "ad = data('Doe', 'Alice', 1991)\n",
    "\n",
    "jd.buildID()\n",
    "ad.buildID()\n",
    "print(jd.id)\n",
    "print(ad.id)"
   ]
  },
  {
   "cell_type": "code",
   "execution_count": 4,
   "metadata": {},
   "outputs": [],
   "source": [
    "\"\"\"\n",
    "Créer une class listeelectoral qui hérite de recensement\n",
    "et possède une méthode renvoyant tout les formulaires présent dans les trois listes\n",
    "et correspondants à des personnes majeurs.\n",
    "\"\"\"\n",
    "\n",
    "class formulaire:\n",
    "    def __init__(self, nom, prenom, anneeNaissance):\n",
    "        self.nom = nom.upper()\n",
    "        self.prenom = prenom.upper()\n",
    "        self.anneeNaissance = anneeNaissance\n",
    "    def age(self):\n",
    "        return 2020 - self.anneeNaissance\n",
    "    def majeur(self):\n",
    "        return self.age() >= 18\n",
    "    def memeFamille(self, formulaire):\n",
    "        return self.nom == formulaire.nom\n",
    "    \n",
    "    def equals(self, formulaire):\n",
    "        return all([self.nom == formulaire.nom,\n",
    "                   self.prenom == formulaire.prenom,\n",
    "                   self.anneeNaissance == formulaire.anneeNaissance])\n",
    "    def __str__(self):\n",
    "        s = self.nom + \", \" + self.prenom + \", \"\n",
    "        return s+ str(self.anneeNaissance)\n",
    "\n",
    "class recensement:\n",
    "    def __init__(self, l1, l2, l3):\n",
    "        self.f2020 = l3\n",
    "        self.f2019 = l2\n",
    "        self.f2018 = l1\n",
    "        \n",
    "    def permanents(self):\n",
    "        return [f for f in self.f2020 if\n",
    "               f in self.f2019 and f in self.f2018]\n",
    "    \n",
    "class listeelectorale(recensement):\n",
    "    def __init__(self, l1, l2, l3):\n",
    "        recensement.__init__(self, l1, l2, l3)\n",
    "        \n",
    "    def inscrits(self):\n",
    "        return [f for f in self.permanents() if\n",
    "                f.majeur()]\n",
    "    \n",
    "    def __str__(self)"
   ]
  },
  {
   "cell_type": "code",
   "execution_count": 5,
   "metadata": {
    "scrolled": true
   },
   "outputs": [
    {
     "name": "stdout",
     "output_type": "stream",
     "text": [
      "DOE, ALICE, 1996\n",
      "COCO, CHANEL, 1883\n"
     ]
    }
   ],
   "source": [
    "jd = formulaire('Doe', 'John', 1987)\n",
    "ad = formulaire('doe', 'Alice', 1996)\n",
    "ma = formulaire('Mouhammed', 'Ali', 2004)\n",
    "cc = formulaire('Coco', 'Chanel', 1883)\n",
    "\n",
    "l = listeelectorale([jd, ad, cc],\n",
    "                    [jd, ad, ma, cc], [ad, ma, cc])\n",
    "\n",
    "for f in l.inscrits():\n",
    "    print(f)"
   ]
  },
  {
   "cell_type": "code",
   "execution_count": 7,
   "metadata": {},
   "outputs": [
    {
     "name": "stdout",
     "output_type": "stream",
     "text": [
      "[<__main__.formulaire object at 0x000002646AD56A30>, <__main__.formulaire object at 0x000002646AD56520>]\n"
     ]
    }
   ],
   "source": [
    "print(l.inscrits())"
   ]
  },
  {
   "cell_type": "code",
   "execution_count": null,
   "metadata": {},
   "outputs": [],
   "source": []
  }
 ],
 "metadata": {
  "kernelspec": {
   "display_name": "Python 3",
   "language": "python",
   "name": "python3"
  },
  "language_info": {
   "codemirror_mode": {
    "name": "ipython",
    "version": 3
   },
   "file_extension": ".py",
   "mimetype": "text/x-python",
   "name": "python",
   "nbconvert_exporter": "python",
   "pygments_lexer": "ipython3",
   "version": "3.8.3"
  }
 },
 "nbformat": 4,
 "nbformat_minor": 2
}
